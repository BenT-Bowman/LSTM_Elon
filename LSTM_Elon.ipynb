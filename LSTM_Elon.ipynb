{
  "cells": [
    {
      "cell_type": "code",
      "execution_count": null,
      "metadata": {
        "id": "RkBIN8RDfOkM"
      },
      "outputs": [],
      "source": [
        "import pandas as pd\n",
        "import tensorflow as tf\n",
        "\n",
        "df = pd.read_csv('elonmusk.csv')"
      ]
    },
    {
      "cell_type": "code",
      "execution_count": null,
      "metadata": {
        "id": "aAq2Uyilgvhg"
      },
      "outputs": [],
      "source": [
        "# df = df[~df[\"Text\"].str.contains(\"@\")]\n",
        "df = df[~df[\"Text\"].str.contains(\"http\")]\n",
        "df = df[~df[\"Text\"].str.contains(\"https\")]"
      ]
    },
    {
      "cell_type": "code",
      "execution_count": null,
      "metadata": {
        "colab": {
          "base_uri": "https://localhost:8080/",
          "height": 424
        },
        "id": "fV3J0syagzm7",
        "outputId": "a6207cfe-f087-4258-8573-04886f5f6013"
      },
      "outputs": [
        {
          "output_type": "execute_result",
          "data": {
            "text/plain": [
              "                        Datetime             Tweet Id  \\\n",
              "0      2023-05-27 23:06:22+00:00  1662596135679131649   \n",
              "1      2023-05-27 23:06:02+00:00  1662596048076906501   \n",
              "2      2023-05-27 23:05:08+00:00  1662595824042352641   \n",
              "3      2023-05-27 20:09:42+00:00  1662551674857086977   \n",
              "4      2023-05-27 19:24:12+00:00  1662540224780443650   \n",
              "...                          ...                  ...   \n",
              "23428  2011-12-21 10:26:51+00:00   149435658115612672   \n",
              "23429  2011-12-04 03:33:52+00:00   143171132814671872   \n",
              "23430  2011-12-03 08:22:07+00:00   142881284019060736   \n",
              "23431  2011-12-03 08:20:28+00:00   142880871391838208   \n",
              "23434  2010-06-04 18:31:57+00:00          15434727182   \n",
              "\n",
              "                                                    Text  Username  \n",
              "0                     @RealJamesWoods On Twitter, I mean  elonmusk  \n",
              "1                           @RealJamesWoods Jack is back  elonmusk  \n",
              "2                                               @Jason 😬  elonmusk  \n",
              "3                                            @DrLoupis 👀  elonmusk  \n",
              "4                                         @alifarhat79 🦾  elonmusk  \n",
              "...                                                  ...       ...  \n",
              "23428  Read \"Lying\", the new book by my friend Sam Ha...  elonmusk  \n",
              "23429  Am reading a great biography of Ben Franklin b...  elonmusk  \n",
              "23430                  That was a total non sequitur btw  elonmusk  \n",
              "23431  Great Voltaire quote, arguably better than Twa...  elonmusk  \n",
              "23434  Please ignore prior tweets, as that was someon...  elonmusk  \n",
              "\n",
              "[20592 rows x 4 columns]"
            ],
            "text/html": [
              "\n",
              "  <div id=\"df-8e080e25-0f8f-4b30-9f23-ef9e06f890ae\">\n",
              "    <div class=\"colab-df-container\">\n",
              "      <div>\n",
              "<style scoped>\n",
              "    .dataframe tbody tr th:only-of-type {\n",
              "        vertical-align: middle;\n",
              "    }\n",
              "\n",
              "    .dataframe tbody tr th {\n",
              "        vertical-align: top;\n",
              "    }\n",
              "\n",
              "    .dataframe thead th {\n",
              "        text-align: right;\n",
              "    }\n",
              "</style>\n",
              "<table border=\"1\" class=\"dataframe\">\n",
              "  <thead>\n",
              "    <tr style=\"text-align: right;\">\n",
              "      <th></th>\n",
              "      <th>Datetime</th>\n",
              "      <th>Tweet Id</th>\n",
              "      <th>Text</th>\n",
              "      <th>Username</th>\n",
              "    </tr>\n",
              "  </thead>\n",
              "  <tbody>\n",
              "    <tr>\n",
              "      <th>0</th>\n",
              "      <td>2023-05-27 23:06:22+00:00</td>\n",
              "      <td>1662596135679131649</td>\n",
              "      <td>@RealJamesWoods On Twitter, I mean</td>\n",
              "      <td>elonmusk</td>\n",
              "    </tr>\n",
              "    <tr>\n",
              "      <th>1</th>\n",
              "      <td>2023-05-27 23:06:02+00:00</td>\n",
              "      <td>1662596048076906501</td>\n",
              "      <td>@RealJamesWoods Jack is back</td>\n",
              "      <td>elonmusk</td>\n",
              "    </tr>\n",
              "    <tr>\n",
              "      <th>2</th>\n",
              "      <td>2023-05-27 23:05:08+00:00</td>\n",
              "      <td>1662595824042352641</td>\n",
              "      <td>@Jason 😬</td>\n",
              "      <td>elonmusk</td>\n",
              "    </tr>\n",
              "    <tr>\n",
              "      <th>3</th>\n",
              "      <td>2023-05-27 20:09:42+00:00</td>\n",
              "      <td>1662551674857086977</td>\n",
              "      <td>@DrLoupis 👀</td>\n",
              "      <td>elonmusk</td>\n",
              "    </tr>\n",
              "    <tr>\n",
              "      <th>4</th>\n",
              "      <td>2023-05-27 19:24:12+00:00</td>\n",
              "      <td>1662540224780443650</td>\n",
              "      <td>@alifarhat79 🦾</td>\n",
              "      <td>elonmusk</td>\n",
              "    </tr>\n",
              "    <tr>\n",
              "      <th>...</th>\n",
              "      <td>...</td>\n",
              "      <td>...</td>\n",
              "      <td>...</td>\n",
              "      <td>...</td>\n",
              "    </tr>\n",
              "    <tr>\n",
              "      <th>23428</th>\n",
              "      <td>2011-12-21 10:26:51+00:00</td>\n",
              "      <td>149435658115612672</td>\n",
              "      <td>Read \"Lying\", the new book by my friend Sam Ha...</td>\n",
              "      <td>elonmusk</td>\n",
              "    </tr>\n",
              "    <tr>\n",
              "      <th>23429</th>\n",
              "      <td>2011-12-04 03:33:52+00:00</td>\n",
              "      <td>143171132814671872</td>\n",
              "      <td>Am reading a great biography of Ben Franklin b...</td>\n",
              "      <td>elonmusk</td>\n",
              "    </tr>\n",
              "    <tr>\n",
              "      <th>23430</th>\n",
              "      <td>2011-12-03 08:22:07+00:00</td>\n",
              "      <td>142881284019060736</td>\n",
              "      <td>That was a total non sequitur btw</td>\n",
              "      <td>elonmusk</td>\n",
              "    </tr>\n",
              "    <tr>\n",
              "      <th>23431</th>\n",
              "      <td>2011-12-03 08:20:28+00:00</td>\n",
              "      <td>142880871391838208</td>\n",
              "      <td>Great Voltaire quote, arguably better than Twa...</td>\n",
              "      <td>elonmusk</td>\n",
              "    </tr>\n",
              "    <tr>\n",
              "      <th>23434</th>\n",
              "      <td>2010-06-04 18:31:57+00:00</td>\n",
              "      <td>15434727182</td>\n",
              "      <td>Please ignore prior tweets, as that was someon...</td>\n",
              "      <td>elonmusk</td>\n",
              "    </tr>\n",
              "  </tbody>\n",
              "</table>\n",
              "<p>20592 rows × 4 columns</p>\n",
              "</div>\n",
              "      <button class=\"colab-df-convert\" onclick=\"convertToInteractive('df-8e080e25-0f8f-4b30-9f23-ef9e06f890ae')\"\n",
              "              title=\"Convert this dataframe to an interactive table.\"\n",
              "              style=\"display:none;\">\n",
              "        \n",
              "  <svg xmlns=\"http://www.w3.org/2000/svg\" height=\"24px\"viewBox=\"0 0 24 24\"\n",
              "       width=\"24px\">\n",
              "    <path d=\"M0 0h24v24H0V0z\" fill=\"none\"/>\n",
              "    <path d=\"M18.56 5.44l.94 2.06.94-2.06 2.06-.94-2.06-.94-.94-2.06-.94 2.06-2.06.94zm-11 1L8.5 8.5l.94-2.06 2.06-.94-2.06-.94L8.5 2.5l-.94 2.06-2.06.94zm10 10l.94 2.06.94-2.06 2.06-.94-2.06-.94-.94-2.06-.94 2.06-2.06.94z\"/><path d=\"M17.41 7.96l-1.37-1.37c-.4-.4-.92-.59-1.43-.59-.52 0-1.04.2-1.43.59L10.3 9.45l-7.72 7.72c-.78.78-.78 2.05 0 2.83L4 21.41c.39.39.9.59 1.41.59.51 0 1.02-.2 1.41-.59l7.78-7.78 2.81-2.81c.8-.78.8-2.07 0-2.86zM5.41 20L4 18.59l7.72-7.72 1.47 1.35L5.41 20z\"/>\n",
              "  </svg>\n",
              "      </button>\n",
              "      \n",
              "  <style>\n",
              "    .colab-df-container {\n",
              "      display:flex;\n",
              "      flex-wrap:wrap;\n",
              "      gap: 12px;\n",
              "    }\n",
              "\n",
              "    .colab-df-convert {\n",
              "      background-color: #E8F0FE;\n",
              "      border: none;\n",
              "      border-radius: 50%;\n",
              "      cursor: pointer;\n",
              "      display: none;\n",
              "      fill: #1967D2;\n",
              "      height: 32px;\n",
              "      padding: 0 0 0 0;\n",
              "      width: 32px;\n",
              "    }\n",
              "\n",
              "    .colab-df-convert:hover {\n",
              "      background-color: #E2EBFA;\n",
              "      box-shadow: 0px 1px 2px rgba(60, 64, 67, 0.3), 0px 1px 3px 1px rgba(60, 64, 67, 0.15);\n",
              "      fill: #174EA6;\n",
              "    }\n",
              "\n",
              "    [theme=dark] .colab-df-convert {\n",
              "      background-color: #3B4455;\n",
              "      fill: #D2E3FC;\n",
              "    }\n",
              "\n",
              "    [theme=dark] .colab-df-convert:hover {\n",
              "      background-color: #434B5C;\n",
              "      box-shadow: 0px 1px 3px 1px rgba(0, 0, 0, 0.15);\n",
              "      filter: drop-shadow(0px 1px 2px rgba(0, 0, 0, 0.3));\n",
              "      fill: #FFFFFF;\n",
              "    }\n",
              "  </style>\n",
              "\n",
              "      <script>\n",
              "        const buttonEl =\n",
              "          document.querySelector('#df-8e080e25-0f8f-4b30-9f23-ef9e06f890ae button.colab-df-convert');\n",
              "        buttonEl.style.display =\n",
              "          google.colab.kernel.accessAllowed ? 'block' : 'none';\n",
              "\n",
              "        async function convertToInteractive(key) {\n",
              "          const element = document.querySelector('#df-8e080e25-0f8f-4b30-9f23-ef9e06f890ae');\n",
              "          const dataTable =\n",
              "            await google.colab.kernel.invokeFunction('convertToInteractive',\n",
              "                                                     [key], {});\n",
              "          if (!dataTable) return;\n",
              "\n",
              "          const docLinkHtml = 'Like what you see? Visit the ' +\n",
              "            '<a target=\"_blank\" href=https://colab.research.google.com/notebooks/data_table.ipynb>data table notebook</a>'\n",
              "            + ' to learn more about interactive tables.';\n",
              "          element.innerHTML = '';\n",
              "          dataTable['output_type'] = 'display_data';\n",
              "          await google.colab.output.renderOutput(dataTable, element);\n",
              "          const docLink = document.createElement('div');\n",
              "          docLink.innerHTML = docLinkHtml;\n",
              "          element.appendChild(docLink);\n",
              "        }\n",
              "      </script>\n",
              "    </div>\n",
              "  </div>\n",
              "  "
            ]
          },
          "metadata": {},
          "execution_count": 3
        }
      ],
      "source": [
        "df"
      ]
    },
    {
      "cell_type": "code",
      "execution_count": null,
      "metadata": {
        "id": "Y9f0FN-hh1cS"
      },
      "outputs": [],
      "source": [
        "def find_ats(string):\n",
        "  sentence = string.split()\n",
        "  final_sentence = []\n",
        "  for word in sentence:\n",
        "    if not \"@\" in word:\n",
        "      final_sentence.append(word)\n",
        "  final_sentence = \" \".join(final_sentence)\n",
        "  return final_sentence\n",
        "\n"
      ]
    },
    {
      "cell_type": "code",
      "execution_count": null,
      "metadata": {
        "colab": {
          "base_uri": "https://localhost:8080/",
          "height": 35
        },
        "id": "P2srn6s4lh4_",
        "outputId": "820a67c2-4982-4c26-de62-781eabb0f4cd"
      },
      "outputs": [
        {
          "output_type": "execute_result",
          "data": {
            "text/plain": [
              "'Jack is back'"
            ],
            "application/vnd.google.colaboratory.intrinsic+json": {
              "type": "string"
            }
          },
          "metadata": {},
          "execution_count": 5
        }
      ],
      "source": [
        "find_ats(df[\"Text\"][1])"
      ]
    },
    {
      "cell_type": "code",
      "execution_count": null,
      "metadata": {
        "id": "7-YVNN74loNo"
      },
      "outputs": [],
      "source": [
        "df[\"Text\"] = df[\"Text\"].apply(find_ats)"
      ]
    },
    {
      "cell_type": "code",
      "execution_count": null,
      "metadata": {
        "colab": {
          "base_uri": "https://localhost:8080/",
          "height": 424
        },
        "id": "OHsAqpCFpTUa",
        "outputId": "dd786909-51dc-4716-e92f-042efe417269"
      },
      "outputs": [
        {
          "output_type": "execute_result",
          "data": {
            "text/plain": [
              "                        Datetime             Tweet Id  \\\n",
              "0      2023-05-27 23:06:22+00:00  1662596135679131649   \n",
              "1      2023-05-27 23:06:02+00:00  1662596048076906501   \n",
              "2      2023-05-27 23:05:08+00:00  1662595824042352641   \n",
              "3      2023-05-27 20:09:42+00:00  1662551674857086977   \n",
              "4      2023-05-27 19:24:12+00:00  1662540224780443650   \n",
              "...                          ...                  ...   \n",
              "23428  2011-12-21 10:26:51+00:00   149435658115612672   \n",
              "23429  2011-12-04 03:33:52+00:00   143171132814671872   \n",
              "23430  2011-12-03 08:22:07+00:00   142881284019060736   \n",
              "23431  2011-12-03 08:20:28+00:00   142880871391838208   \n",
              "23434  2010-06-04 18:31:57+00:00          15434727182   \n",
              "\n",
              "                                                    Text  Username  \n",
              "0                                     On Twitter, I mean  elonmusk  \n",
              "1                                           Jack is back  elonmusk  \n",
              "2                                                      😬  elonmusk  \n",
              "3                                                      👀  elonmusk  \n",
              "4                                                      🦾  elonmusk  \n",
              "...                                                  ...       ...  \n",
              "23428  Read \"Lying\", the new book by my friend Sam Ha...  elonmusk  \n",
              "23429  Am reading a great biography of Ben Franklin b...  elonmusk  \n",
              "23430                  That was a total non sequitur btw  elonmusk  \n",
              "23431  Great Voltaire quote, arguably better than Twa...  elonmusk  \n",
              "23434  Please ignore prior tweets, as that was someon...  elonmusk  \n",
              "\n",
              "[20592 rows x 4 columns]"
            ],
            "text/html": [
              "\n",
              "  <div id=\"df-901fdbfb-8bfc-4fd7-8cbd-5a082f3ad075\">\n",
              "    <div class=\"colab-df-container\">\n",
              "      <div>\n",
              "<style scoped>\n",
              "    .dataframe tbody tr th:only-of-type {\n",
              "        vertical-align: middle;\n",
              "    }\n",
              "\n",
              "    .dataframe tbody tr th {\n",
              "        vertical-align: top;\n",
              "    }\n",
              "\n",
              "    .dataframe thead th {\n",
              "        text-align: right;\n",
              "    }\n",
              "</style>\n",
              "<table border=\"1\" class=\"dataframe\">\n",
              "  <thead>\n",
              "    <tr style=\"text-align: right;\">\n",
              "      <th></th>\n",
              "      <th>Datetime</th>\n",
              "      <th>Tweet Id</th>\n",
              "      <th>Text</th>\n",
              "      <th>Username</th>\n",
              "    </tr>\n",
              "  </thead>\n",
              "  <tbody>\n",
              "    <tr>\n",
              "      <th>0</th>\n",
              "      <td>2023-05-27 23:06:22+00:00</td>\n",
              "      <td>1662596135679131649</td>\n",
              "      <td>On Twitter, I mean</td>\n",
              "      <td>elonmusk</td>\n",
              "    </tr>\n",
              "    <tr>\n",
              "      <th>1</th>\n",
              "      <td>2023-05-27 23:06:02+00:00</td>\n",
              "      <td>1662596048076906501</td>\n",
              "      <td>Jack is back</td>\n",
              "      <td>elonmusk</td>\n",
              "    </tr>\n",
              "    <tr>\n",
              "      <th>2</th>\n",
              "      <td>2023-05-27 23:05:08+00:00</td>\n",
              "      <td>1662595824042352641</td>\n",
              "      <td>😬</td>\n",
              "      <td>elonmusk</td>\n",
              "    </tr>\n",
              "    <tr>\n",
              "      <th>3</th>\n",
              "      <td>2023-05-27 20:09:42+00:00</td>\n",
              "      <td>1662551674857086977</td>\n",
              "      <td>👀</td>\n",
              "      <td>elonmusk</td>\n",
              "    </tr>\n",
              "    <tr>\n",
              "      <th>4</th>\n",
              "      <td>2023-05-27 19:24:12+00:00</td>\n",
              "      <td>1662540224780443650</td>\n",
              "      <td>🦾</td>\n",
              "      <td>elonmusk</td>\n",
              "    </tr>\n",
              "    <tr>\n",
              "      <th>...</th>\n",
              "      <td>...</td>\n",
              "      <td>...</td>\n",
              "      <td>...</td>\n",
              "      <td>...</td>\n",
              "    </tr>\n",
              "    <tr>\n",
              "      <th>23428</th>\n",
              "      <td>2011-12-21 10:26:51+00:00</td>\n",
              "      <td>149435658115612672</td>\n",
              "      <td>Read \"Lying\", the new book by my friend Sam Ha...</td>\n",
              "      <td>elonmusk</td>\n",
              "    </tr>\n",
              "    <tr>\n",
              "      <th>23429</th>\n",
              "      <td>2011-12-04 03:33:52+00:00</td>\n",
              "      <td>143171132814671872</td>\n",
              "      <td>Am reading a great biography of Ben Franklin b...</td>\n",
              "      <td>elonmusk</td>\n",
              "    </tr>\n",
              "    <tr>\n",
              "      <th>23430</th>\n",
              "      <td>2011-12-03 08:22:07+00:00</td>\n",
              "      <td>142881284019060736</td>\n",
              "      <td>That was a total non sequitur btw</td>\n",
              "      <td>elonmusk</td>\n",
              "    </tr>\n",
              "    <tr>\n",
              "      <th>23431</th>\n",
              "      <td>2011-12-03 08:20:28+00:00</td>\n",
              "      <td>142880871391838208</td>\n",
              "      <td>Great Voltaire quote, arguably better than Twa...</td>\n",
              "      <td>elonmusk</td>\n",
              "    </tr>\n",
              "    <tr>\n",
              "      <th>23434</th>\n",
              "      <td>2010-06-04 18:31:57+00:00</td>\n",
              "      <td>15434727182</td>\n",
              "      <td>Please ignore prior tweets, as that was someon...</td>\n",
              "      <td>elonmusk</td>\n",
              "    </tr>\n",
              "  </tbody>\n",
              "</table>\n",
              "<p>20592 rows × 4 columns</p>\n",
              "</div>\n",
              "      <button class=\"colab-df-convert\" onclick=\"convertToInteractive('df-901fdbfb-8bfc-4fd7-8cbd-5a082f3ad075')\"\n",
              "              title=\"Convert this dataframe to an interactive table.\"\n",
              "              style=\"display:none;\">\n",
              "        \n",
              "  <svg xmlns=\"http://www.w3.org/2000/svg\" height=\"24px\"viewBox=\"0 0 24 24\"\n",
              "       width=\"24px\">\n",
              "    <path d=\"M0 0h24v24H0V0z\" fill=\"none\"/>\n",
              "    <path d=\"M18.56 5.44l.94 2.06.94-2.06 2.06-.94-2.06-.94-.94-2.06-.94 2.06-2.06.94zm-11 1L8.5 8.5l.94-2.06 2.06-.94-2.06-.94L8.5 2.5l-.94 2.06-2.06.94zm10 10l.94 2.06.94-2.06 2.06-.94-2.06-.94-.94-2.06-.94 2.06-2.06.94z\"/><path d=\"M17.41 7.96l-1.37-1.37c-.4-.4-.92-.59-1.43-.59-.52 0-1.04.2-1.43.59L10.3 9.45l-7.72 7.72c-.78.78-.78 2.05 0 2.83L4 21.41c.39.39.9.59 1.41.59.51 0 1.02-.2 1.41-.59l7.78-7.78 2.81-2.81c.8-.78.8-2.07 0-2.86zM5.41 20L4 18.59l7.72-7.72 1.47 1.35L5.41 20z\"/>\n",
              "  </svg>\n",
              "      </button>\n",
              "      \n",
              "  <style>\n",
              "    .colab-df-container {\n",
              "      display:flex;\n",
              "      flex-wrap:wrap;\n",
              "      gap: 12px;\n",
              "    }\n",
              "\n",
              "    .colab-df-convert {\n",
              "      background-color: #E8F0FE;\n",
              "      border: none;\n",
              "      border-radius: 50%;\n",
              "      cursor: pointer;\n",
              "      display: none;\n",
              "      fill: #1967D2;\n",
              "      height: 32px;\n",
              "      padding: 0 0 0 0;\n",
              "      width: 32px;\n",
              "    }\n",
              "\n",
              "    .colab-df-convert:hover {\n",
              "      background-color: #E2EBFA;\n",
              "      box-shadow: 0px 1px 2px rgba(60, 64, 67, 0.3), 0px 1px 3px 1px rgba(60, 64, 67, 0.15);\n",
              "      fill: #174EA6;\n",
              "    }\n",
              "\n",
              "    [theme=dark] .colab-df-convert {\n",
              "      background-color: #3B4455;\n",
              "      fill: #D2E3FC;\n",
              "    }\n",
              "\n",
              "    [theme=dark] .colab-df-convert:hover {\n",
              "      background-color: #434B5C;\n",
              "      box-shadow: 0px 1px 3px 1px rgba(0, 0, 0, 0.15);\n",
              "      filter: drop-shadow(0px 1px 2px rgba(0, 0, 0, 0.3));\n",
              "      fill: #FFFFFF;\n",
              "    }\n",
              "  </style>\n",
              "\n",
              "      <script>\n",
              "        const buttonEl =\n",
              "          document.querySelector('#df-901fdbfb-8bfc-4fd7-8cbd-5a082f3ad075 button.colab-df-convert');\n",
              "        buttonEl.style.display =\n",
              "          google.colab.kernel.accessAllowed ? 'block' : 'none';\n",
              "\n",
              "        async function convertToInteractive(key) {\n",
              "          const element = document.querySelector('#df-901fdbfb-8bfc-4fd7-8cbd-5a082f3ad075');\n",
              "          const dataTable =\n",
              "            await google.colab.kernel.invokeFunction('convertToInteractive',\n",
              "                                                     [key], {});\n",
              "          if (!dataTable) return;\n",
              "\n",
              "          const docLinkHtml = 'Like what you see? Visit the ' +\n",
              "            '<a target=\"_blank\" href=https://colab.research.google.com/notebooks/data_table.ipynb>data table notebook</a>'\n",
              "            + ' to learn more about interactive tables.';\n",
              "          element.innerHTML = '';\n",
              "          dataTable['output_type'] = 'display_data';\n",
              "          await google.colab.output.renderOutput(dataTable, element);\n",
              "          const docLink = document.createElement('div');\n",
              "          docLink.innerHTML = docLinkHtml;\n",
              "          element.appendChild(docLink);\n",
              "        }\n",
              "      </script>\n",
              "    </div>\n",
              "  </div>\n",
              "  "
            ]
          },
          "metadata": {},
          "execution_count": 7
        }
      ],
      "source": [
        "df"
      ]
    },
    {
      "cell_type": "code",
      "execution_count": null,
      "metadata": {
        "id": "8gFcxJ_BpT-j"
      },
      "outputs": [],
      "source": [
        "df.reset_index(inplace=True, drop=True)"
      ]
    },
    {
      "cell_type": "code",
      "execution_count": null,
      "metadata": {
        "colab": {
          "base_uri": "https://localhost:8080/",
          "height": 677
        },
        "id": "9BS686jFjs_Z",
        "outputId": "bdbb3596-6ab3-47b4-c562-48a934a57102"
      },
      "outputs": [
        {
          "output_type": "execute_result",
          "data": {
            "text/plain": [
              "                     Datetime             Tweet Id  \\\n",
              "0   2023-05-27 23:06:22+00:00  1662596135679131649   \n",
              "1   2023-05-27 23:06:02+00:00  1662596048076906501   \n",
              "2   2023-05-27 23:05:08+00:00  1662595824042352641   \n",
              "3   2023-05-27 20:09:42+00:00  1662551674857086977   \n",
              "4   2023-05-27 19:24:12+00:00  1662540224780443650   \n",
              "5   2023-05-27 19:22:09+00:00  1662539707559952384   \n",
              "6   2023-05-27 19:06:27+00:00  1662535758106828803   \n",
              "7   2023-05-27 19:03:00+00:00  1662534890133372931   \n",
              "8   2023-05-27 18:52:53+00:00  1662532343951761410   \n",
              "9   2023-05-27 18:48:36+00:00  1662531265797431299   \n",
              "10  2023-05-27 18:42:26+00:00  1662529714634752001   \n",
              "11  2023-05-27 18:38:41+00:00  1662528767221280768   \n",
              "12  2023-05-27 17:52:26+00:00  1662517130779058176   \n",
              "13  2023-05-27 17:48:30+00:00  1662516141669883908   \n",
              "14  2023-05-27 17:16:28+00:00  1662508078657335297   \n",
              "15  2023-05-27 17:09:30+00:00  1662506327434821632   \n",
              "16  2023-05-27 17:06:13+00:00  1662505499319779328   \n",
              "17  2023-05-27 16:57:29+00:00  1662503299378032640   \n",
              "18  2023-05-27 16:53:56+00:00  1662502406708420612   \n",
              "19  2023-05-27 16:52:16+00:00  1662501986627977218   \n",
              "\n",
              "                                                 Text  Username  \n",
              "0                                  On Twitter, I mean  elonmusk  \n",
              "1                                        Jack is back  elonmusk  \n",
              "2                                                   😬  elonmusk  \n",
              "3                                                   👀  elonmusk  \n",
              "4                                                   🦾  elonmusk  \n",
              "5                    Office Space is an awesome movie  elonmusk  \n",
              "6                                                   🤣  elonmusk  \n",
              "7                                     A real problem!  elonmusk  \n",
              "8                                                 Wow  elonmusk  \n",
              "9                                                   🤣  elonmusk  \n",
              "10  Previously, I had thought it was some pescatar...  elonmusk  \n",
              "11  I was today’s years old when I learned that so...  elonmusk  \n",
              "12             We are insulated from this in the west  elonmusk  \n",
              "13                                                  🤣  elonmusk  \n",
              "14                                                  🤣  elonmusk  \n",
              "15                                              Ever?  elonmusk  \n",
              "16                                                  🧐  elonmusk  \n",
              "17                         Not sure why this happened  elonmusk  \n",
              "18                                                  🎯  elonmusk  \n",
              "19                   Just tap the button for FSD Beta  elonmusk  "
            ],
            "text/html": [
              "\n",
              "  <div id=\"df-7669c8bd-027a-4aae-b1d2-fd986af96a9e\">\n",
              "    <div class=\"colab-df-container\">\n",
              "      <div>\n",
              "<style scoped>\n",
              "    .dataframe tbody tr th:only-of-type {\n",
              "        vertical-align: middle;\n",
              "    }\n",
              "\n",
              "    .dataframe tbody tr th {\n",
              "        vertical-align: top;\n",
              "    }\n",
              "\n",
              "    .dataframe thead th {\n",
              "        text-align: right;\n",
              "    }\n",
              "</style>\n",
              "<table border=\"1\" class=\"dataframe\">\n",
              "  <thead>\n",
              "    <tr style=\"text-align: right;\">\n",
              "      <th></th>\n",
              "      <th>Datetime</th>\n",
              "      <th>Tweet Id</th>\n",
              "      <th>Text</th>\n",
              "      <th>Username</th>\n",
              "    </tr>\n",
              "  </thead>\n",
              "  <tbody>\n",
              "    <tr>\n",
              "      <th>0</th>\n",
              "      <td>2023-05-27 23:06:22+00:00</td>\n",
              "      <td>1662596135679131649</td>\n",
              "      <td>On Twitter, I mean</td>\n",
              "      <td>elonmusk</td>\n",
              "    </tr>\n",
              "    <tr>\n",
              "      <th>1</th>\n",
              "      <td>2023-05-27 23:06:02+00:00</td>\n",
              "      <td>1662596048076906501</td>\n",
              "      <td>Jack is back</td>\n",
              "      <td>elonmusk</td>\n",
              "    </tr>\n",
              "    <tr>\n",
              "      <th>2</th>\n",
              "      <td>2023-05-27 23:05:08+00:00</td>\n",
              "      <td>1662595824042352641</td>\n",
              "      <td>😬</td>\n",
              "      <td>elonmusk</td>\n",
              "    </tr>\n",
              "    <tr>\n",
              "      <th>3</th>\n",
              "      <td>2023-05-27 20:09:42+00:00</td>\n",
              "      <td>1662551674857086977</td>\n",
              "      <td>👀</td>\n",
              "      <td>elonmusk</td>\n",
              "    </tr>\n",
              "    <tr>\n",
              "      <th>4</th>\n",
              "      <td>2023-05-27 19:24:12+00:00</td>\n",
              "      <td>1662540224780443650</td>\n",
              "      <td>🦾</td>\n",
              "      <td>elonmusk</td>\n",
              "    </tr>\n",
              "    <tr>\n",
              "      <th>5</th>\n",
              "      <td>2023-05-27 19:22:09+00:00</td>\n",
              "      <td>1662539707559952384</td>\n",
              "      <td>Office Space is an awesome movie</td>\n",
              "      <td>elonmusk</td>\n",
              "    </tr>\n",
              "    <tr>\n",
              "      <th>6</th>\n",
              "      <td>2023-05-27 19:06:27+00:00</td>\n",
              "      <td>1662535758106828803</td>\n",
              "      <td>🤣</td>\n",
              "      <td>elonmusk</td>\n",
              "    </tr>\n",
              "    <tr>\n",
              "      <th>7</th>\n",
              "      <td>2023-05-27 19:03:00+00:00</td>\n",
              "      <td>1662534890133372931</td>\n",
              "      <td>A real problem!</td>\n",
              "      <td>elonmusk</td>\n",
              "    </tr>\n",
              "    <tr>\n",
              "      <th>8</th>\n",
              "      <td>2023-05-27 18:52:53+00:00</td>\n",
              "      <td>1662532343951761410</td>\n",
              "      <td>Wow</td>\n",
              "      <td>elonmusk</td>\n",
              "    </tr>\n",
              "    <tr>\n",
              "      <th>9</th>\n",
              "      <td>2023-05-27 18:48:36+00:00</td>\n",
              "      <td>1662531265797431299</td>\n",
              "      <td>🤣</td>\n",
              "      <td>elonmusk</td>\n",
              "    </tr>\n",
              "    <tr>\n",
              "      <th>10</th>\n",
              "      <td>2023-05-27 18:42:26+00:00</td>\n",
              "      <td>1662529714634752001</td>\n",
              "      <td>Previously, I had thought it was some pescatar...</td>\n",
              "      <td>elonmusk</td>\n",
              "    </tr>\n",
              "    <tr>\n",
              "      <th>11</th>\n",
              "      <td>2023-05-27 18:38:41+00:00</td>\n",
              "      <td>1662528767221280768</td>\n",
              "      <td>I was today’s years old when I learned that so...</td>\n",
              "      <td>elonmusk</td>\n",
              "    </tr>\n",
              "    <tr>\n",
              "      <th>12</th>\n",
              "      <td>2023-05-27 17:52:26+00:00</td>\n",
              "      <td>1662517130779058176</td>\n",
              "      <td>We are insulated from this in the west</td>\n",
              "      <td>elonmusk</td>\n",
              "    </tr>\n",
              "    <tr>\n",
              "      <th>13</th>\n",
              "      <td>2023-05-27 17:48:30+00:00</td>\n",
              "      <td>1662516141669883908</td>\n",
              "      <td>🤣</td>\n",
              "      <td>elonmusk</td>\n",
              "    </tr>\n",
              "    <tr>\n",
              "      <th>14</th>\n",
              "      <td>2023-05-27 17:16:28+00:00</td>\n",
              "      <td>1662508078657335297</td>\n",
              "      <td>🤣</td>\n",
              "      <td>elonmusk</td>\n",
              "    </tr>\n",
              "    <tr>\n",
              "      <th>15</th>\n",
              "      <td>2023-05-27 17:09:30+00:00</td>\n",
              "      <td>1662506327434821632</td>\n",
              "      <td>Ever?</td>\n",
              "      <td>elonmusk</td>\n",
              "    </tr>\n",
              "    <tr>\n",
              "      <th>16</th>\n",
              "      <td>2023-05-27 17:06:13+00:00</td>\n",
              "      <td>1662505499319779328</td>\n",
              "      <td>🧐</td>\n",
              "      <td>elonmusk</td>\n",
              "    </tr>\n",
              "    <tr>\n",
              "      <th>17</th>\n",
              "      <td>2023-05-27 16:57:29+00:00</td>\n",
              "      <td>1662503299378032640</td>\n",
              "      <td>Not sure why this happened</td>\n",
              "      <td>elonmusk</td>\n",
              "    </tr>\n",
              "    <tr>\n",
              "      <th>18</th>\n",
              "      <td>2023-05-27 16:53:56+00:00</td>\n",
              "      <td>1662502406708420612</td>\n",
              "      <td>🎯</td>\n",
              "      <td>elonmusk</td>\n",
              "    </tr>\n",
              "    <tr>\n",
              "      <th>19</th>\n",
              "      <td>2023-05-27 16:52:16+00:00</td>\n",
              "      <td>1662501986627977218</td>\n",
              "      <td>Just tap the button for FSD Beta</td>\n",
              "      <td>elonmusk</td>\n",
              "    </tr>\n",
              "  </tbody>\n",
              "</table>\n",
              "</div>\n",
              "      <button class=\"colab-df-convert\" onclick=\"convertToInteractive('df-7669c8bd-027a-4aae-b1d2-fd986af96a9e')\"\n",
              "              title=\"Convert this dataframe to an interactive table.\"\n",
              "              style=\"display:none;\">\n",
              "        \n",
              "  <svg xmlns=\"http://www.w3.org/2000/svg\" height=\"24px\"viewBox=\"0 0 24 24\"\n",
              "       width=\"24px\">\n",
              "    <path d=\"M0 0h24v24H0V0z\" fill=\"none\"/>\n",
              "    <path d=\"M18.56 5.44l.94 2.06.94-2.06 2.06-.94-2.06-.94-.94-2.06-.94 2.06-2.06.94zm-11 1L8.5 8.5l.94-2.06 2.06-.94-2.06-.94L8.5 2.5l-.94 2.06-2.06.94zm10 10l.94 2.06.94-2.06 2.06-.94-2.06-.94-.94-2.06-.94 2.06-2.06.94z\"/><path d=\"M17.41 7.96l-1.37-1.37c-.4-.4-.92-.59-1.43-.59-.52 0-1.04.2-1.43.59L10.3 9.45l-7.72 7.72c-.78.78-.78 2.05 0 2.83L4 21.41c.39.39.9.59 1.41.59.51 0 1.02-.2 1.41-.59l7.78-7.78 2.81-2.81c.8-.78.8-2.07 0-2.86zM5.41 20L4 18.59l7.72-7.72 1.47 1.35L5.41 20z\"/>\n",
              "  </svg>\n",
              "      </button>\n",
              "      \n",
              "  <style>\n",
              "    .colab-df-container {\n",
              "      display:flex;\n",
              "      flex-wrap:wrap;\n",
              "      gap: 12px;\n",
              "    }\n",
              "\n",
              "    .colab-df-convert {\n",
              "      background-color: #E8F0FE;\n",
              "      border: none;\n",
              "      border-radius: 50%;\n",
              "      cursor: pointer;\n",
              "      display: none;\n",
              "      fill: #1967D2;\n",
              "      height: 32px;\n",
              "      padding: 0 0 0 0;\n",
              "      width: 32px;\n",
              "    }\n",
              "\n",
              "    .colab-df-convert:hover {\n",
              "      background-color: #E2EBFA;\n",
              "      box-shadow: 0px 1px 2px rgba(60, 64, 67, 0.3), 0px 1px 3px 1px rgba(60, 64, 67, 0.15);\n",
              "      fill: #174EA6;\n",
              "    }\n",
              "\n",
              "    [theme=dark] .colab-df-convert {\n",
              "      background-color: #3B4455;\n",
              "      fill: #D2E3FC;\n",
              "    }\n",
              "\n",
              "    [theme=dark] .colab-df-convert:hover {\n",
              "      background-color: #434B5C;\n",
              "      box-shadow: 0px 1px 3px 1px rgba(0, 0, 0, 0.15);\n",
              "      filter: drop-shadow(0px 1px 2px rgba(0, 0, 0, 0.3));\n",
              "      fill: #FFFFFF;\n",
              "    }\n",
              "  </style>\n",
              "\n",
              "      <script>\n",
              "        const buttonEl =\n",
              "          document.querySelector('#df-7669c8bd-027a-4aae-b1d2-fd986af96a9e button.colab-df-convert');\n",
              "        buttonEl.style.display =\n",
              "          google.colab.kernel.accessAllowed ? 'block' : 'none';\n",
              "\n",
              "        async function convertToInteractive(key) {\n",
              "          const element = document.querySelector('#df-7669c8bd-027a-4aae-b1d2-fd986af96a9e');\n",
              "          const dataTable =\n",
              "            await google.colab.kernel.invokeFunction('convertToInteractive',\n",
              "                                                     [key], {});\n",
              "          if (!dataTable) return;\n",
              "\n",
              "          const docLinkHtml = 'Like what you see? Visit the ' +\n",
              "            '<a target=\"_blank\" href=https://colab.research.google.com/notebooks/data_table.ipynb>data table notebook</a>'\n",
              "            + ' to learn more about interactive tables.';\n",
              "          element.innerHTML = '';\n",
              "          dataTable['output_type'] = 'display_data';\n",
              "          await google.colab.output.renderOutput(dataTable, element);\n",
              "          const docLink = document.createElement('div');\n",
              "          docLink.innerHTML = docLinkHtml;\n",
              "          element.appendChild(docLink);\n",
              "        }\n",
              "      </script>\n",
              "    </div>\n",
              "  </div>\n",
              "  "
            ]
          },
          "metadata": {},
          "execution_count": 9
        }
      ],
      "source": [
        "df.head(20)"
      ]
    },
    {
      "cell_type": "code",
      "execution_count": null,
      "metadata": {
        "colab": {
          "base_uri": "https://localhost:8080/"
        },
        "id": "jCFbdrHcIKRs",
        "outputId": "d3063377-6a7b-4b71-8066-53ff3ea1f227"
      },
      "outputs": [
        {
          "output_type": "stream",
          "name": "stderr",
          "text": [
            "<ipython-input-10-4c8a0c8c1229>:2: FutureWarning: The default value of regex will change from True to False in a future version. In addition, single character regular expressions will *not* be treated as literal strings when regex=True.\n",
            "  df[\"Text\"]=df[\"Text\"].str.replace(i, \"\")\n"
          ]
        }
      ],
      "source": [
        "for i in [\",\", \":\", \";\", \"/\", \"\\\\\", \"!\", \"?\", '\"', \"'\"]:\n",
        "  df[\"Text\"]=df[\"Text\"].str.replace(i, \"\")"
      ]
    },
    {
      "cell_type": "code",
      "execution_count": null,
      "metadata": {
        "colab": {
          "base_uri": "https://localhost:8080/"
        },
        "id": "QbSPvx-IiC9x",
        "outputId": "08c549ce-7a4f-483b-8c85-97a95926d48e"
      },
      "outputs": [
        {
          "output_type": "stream",
          "name": "stdout",
          "text": [
            "[2, 3, 4, 6, 8, 9, 13, 14, 15, 16, 18, 20, 22, 23, 24, 25, 26, 27, 30, 37, 48, 50, 53, 55, 59, 61, 66, 71, 73, 76, 77, 78, 79, 80, 81, 82, 83, 85, 89, 91, 94, 95, 97, 101, 102, 103, 104, 105, 109, 111, 112, 113, 114, 115, 118, 120, 121, 122, 126, 129, 131, 142, 143, 144, 146, 148, 149, 150, 152, 153, 156, 157, 158, 159, 160, 162, 163, 164, 165, 166, 169, 170, 171, 174, 175, 177, 179, 180, 186, 188, 189, 191, 193, 197, 199, 202, 203, 204, 205, 206, 208, 212, 215, 216, 218, 220, 221, 223, 228, 231, 237, 245, 246, 249, 252, 254, 257, 258, 259, 262, 263, 264, 265, 266, 267, 268, 271, 274, 275, 278, 279, 280, 282, 284, 291, 294, 295, 300, 305, 306, 309, 310, 311, 313, 314, 316, 319, 320, 322, 327, 335, 337, 339, 341, 343, 344, 345, 350, 354, 355, 362, 366, 369, 379, 383, 385, 386, 389, 390, 393, 396, 401, 409, 411, 415, 416, 420, 422, 424, 426, 428, 429, 430, 431, 433, 439, 440, 443, 450, 451, 456, 458, 463, 464, 465, 466, 467, 468, 470, 475, 476, 482, 485, 488, 489, 490, 494, 496, 498, 499, 508, 516, 517, 519, 520, 521, 522, 524, 527, 529, 532, 538, 540, 542, 546, 547, 548, 557, 559, 561, 570, 575, 577, 578, 579, 580, 584, 587, 592, 594, 595, 596, 601, 603, 605, 607, 608, 614, 616, 620, 626, 627, 628, 630, 631, 632, 633, 634, 635, 637, 638, 641, 643, 644, 647, 649, 653, 660, 662, 667, 668, 670, 676, 682, 683, 684, 687, 688, 689, 693, 696, 704, 705, 706, 708, 709, 711, 723, 724, 725, 732, 734, 735, 736, 737, 738, 739, 741, 745, 746, 747, 754, 755, 756, 758, 763, 764, 765, 768, 769, 770, 771, 775, 777, 779, 789, 794, 795, 796, 801, 809, 811, 812, 813, 819, 824, 826, 827, 828, 834, 840, 841, 844, 845, 856, 858, 861, 865, 867, 879, 882, 887, 888, 891, 892, 897, 899, 902, 904, 907, 912, 915, 916, 917, 918, 920, 924, 925, 929, 931, 937, 941, 942, 943, 949, 952, 953, 963, 973, 978, 980, 981, 985, 994, 999, 1000, 1001, 1004, 1006, 1008, 1014, 1023, 1024, 1026, 1034, 1035, 1036, 1039, 1040, 1052, 1053, 1054, 1057, 1064, 1066, 1068, 1069, 1070, 1071, 1072, 1073, 1076, 1078, 1081, 1086, 1087, 1089, 1090, 1092, 1094, 1099, 1104, 1109, 1110, 1116, 1117, 1119, 1120, 1125, 1126, 1127, 1129, 1130, 1132, 1134, 1140, 1141, 1142, 1143, 1144, 1146, 1150, 1152, 1154, 1162, 1168, 1171, 1172, 1174, 1175, 1180, 1184, 1187, 1188, 1194, 1201, 1209, 1214, 1217, 1218, 1223, 1224, 1226, 1228, 1232, 1233, 1239, 1240, 1241, 1243, 1244, 1245, 1246, 1247, 1250, 1252, 1253, 1254, 1261, 1262, 1263, 1264, 1265, 1266, 1268, 1272, 1275, 1280, 1282, 1288, 1294, 1296, 1300, 1302, 1303, 1307, 1308, 1317, 1323, 1324, 1330, 1337, 1338, 1340, 1349, 1350, 1351, 1354, 1355, 1359, 1360, 1363, 1366, 1371, 1375, 1376, 1379, 1385, 1386, 1389, 1391, 1394, 1395, 1397, 1399, 1402, 1403, 1408, 1409, 1417, 1418, 1420, 1421, 1424, 1425, 1433, 1434, 1436, 1440, 1442, 1443, 1447, 1450, 1451, 1453, 1454, 1461, 1467, 1468, 1469, 1470, 1472, 1476, 1478, 1481, 1482, 1483, 1484, 1489, 1492, 1493, 1494, 1497, 1500, 1503, 1505, 1506, 1508, 1509, 1511, 1515, 1516, 1519, 1520, 1523, 1526, 1527, 1531, 1532, 1534, 1539, 1541, 1544, 1545, 1548, 1550, 1553, 1555, 1557, 1558, 1563, 1565, 1571, 1572, 1593, 1594, 1600, 1603, 1609, 1614, 1617, 1623, 1626, 1636, 1638, 1641, 1645, 1650, 1651, 1661, 1662, 1666, 1669, 1670, 1671, 1672, 1673, 1677, 1679, 1680, 1687, 1694, 1695, 1700, 1703, 1704, 1709, 1711, 1712, 1713, 1715, 1717, 1721, 1722, 1724, 1726, 1737, 1741, 1742, 1743, 1745, 1747, 1749, 1752, 1758, 1759, 1763, 1767, 1768, 1770, 1772, 1777, 1782, 1783, 1787, 1789, 1790, 1791, 1792, 1795, 1796, 1797, 1798, 1799, 1801, 1803, 1804, 1809, 1810, 1812, 1813, 1820, 1821, 1831, 1833, 1838, 1839, 1845, 1853, 1855, 1859, 1861, 1870, 1876, 1883, 1889, 1892, 1896, 1902, 1906, 1907, 1911, 1912, 1916, 1921, 1925, 1926, 1928, 1939, 1940, 1943, 1949, 1953, 1961, 1967, 1971, 1973, 1979, 1981, 1983, 1986, 1987, 1989, 1991, 1996, 2000, 2001, 2002, 2006, 2009, 2012, 2018, 2020, 2026, 2027, 2028, 2034, 2042, 2043, 2045, 2046, 2048, 2050, 2052, 2054, 2055, 2056, 2058, 2059, 2061, 2062, 2063, 2065, 2067, 2070, 2074, 2077, 2083, 2085, 2098, 2106, 2109, 2110, 2115, 2117, 2119, 2120, 2121, 2124, 2126, 2138, 2142, 2145, 2148, 2150, 2161, 2164, 2166, 2168, 2169, 2174, 2176, 2177, 2179, 2183, 2187, 2192, 2194, 2195, 2196, 2198, 2199, 2205, 2207, 2208, 2211, 2221, 2222, 2225, 2226, 2227, 2228, 2230, 2238, 2239, 2245, 2248, 2249, 2253, 2254, 2256, 2261, 2263, 2264, 2267, 2269, 2273, 2275, 2276, 2281, 2282, 2289, 2292, 2294, 2299, 2300, 2301, 2308, 2309, 2312, 2313, 2314, 2317, 2318, 2319, 2329, 2331, 2332, 2335, 2338, 2339, 2342, 2348, 2352, 2362, 2363, 2365, 2367, 2369, 2370, 2372, 2378, 2381, 2384, 2385, 2389, 2392, 2395, 2398, 2399, 2400, 2401, 2402, 2405, 2406, 2407, 2411, 2415, 2422, 2425, 2426, 2427, 2428, 2429, 2432, 2436, 2437, 2438, 2439, 2442, 2447, 2448, 2450, 2454, 2455, 2456, 2463, 2464, 2468, 2472, 2476, 2478, 2479, 2483, 2485, 2497, 2498, 2499, 2502, 2508, 2510, 2512, 2522, 2530, 2531, 2532, 2538, 2539, 2541, 2542, 2552, 2553, 2556, 2558, 2559, 2562, 2564, 2568, 2570, 2578, 2581, 2582, 2584, 2586, 2589, 2590, 2592, 2593, 2597, 2598, 2599, 2600, 2603, 2604, 2606, 2607, 2614, 2616, 2617, 2618, 2620, 2632, 2635, 2639, 2640, 2642, 2643, 2647, 2648, 2653, 2655, 2656, 2658, 2659, 2663, 2665, 2666, 2671, 2673, 2676, 2678, 2679, 2680, 2681, 2685, 2686, 2687, 2689, 2691, 2695, 2696, 2699, 2702, 2703, 2707, 2709, 2712, 2713, 2714, 2715, 2717, 2721, 2726, 2727, 2729, 2730, 2732, 2736, 2739, 2742, 2744, 2745, 2751, 2753, 2755, 2757, 2760, 2762, 2766, 2767, 2768, 2770, 2771, 2778, 2779, 2780, 2784, 2785, 2790, 2791, 2795, 2796, 2797, 2798, 2799, 2801, 2803, 2813, 2816, 2823, 2827, 2828, 2829, 2832, 2837, 2839, 2840, 2842, 2843, 2844, 2845, 2846, 2847, 2849, 2850, 2851, 2852, 2853, 2856, 2860, 2864, 2868, 2873, 2880, 2882, 2884, 2887, 2889, 2891, 2895, 2897, 2905, 2907, 2910, 2911, 2914, 2916, 2921, 2923, 2926, 2928, 2933, 2936, 2938, 2939, 2940, 2948, 2954, 2955, 2956, 2961, 2964, 2965, 2966, 2970, 2971, 2978, 2993, 2994, 2995, 2997, 3000, 3002, 3007, 3009, 3011, 3016, 3020, 3021, 3023, 3025, 3027, 3028, 3034, 3035, 3038, 3041, 3043, 3044, 3045, 3048, 3051, 3056, 3057, 3059, 3060, 3061, 3064, 3067, 3072, 3078, 3080, 3081, 3084, 3086, 3091, 3094, 3095, 3103, 3107, 3109, 3112, 3113, 3114, 3118, 3120, 3126, 3129, 3134, 3136, 3139, 3142, 3143, 3148, 3157, 3158, 3160, 3162, 3163, 3164, 3165, 3168, 3169, 3170, 3173, 3175, 3177, 3182, 3189, 3191, 3193, 3197, 3198, 3199, 3201, 3202, 3203, 3204, 3208, 3214, 3216, 3222, 3226, 3229, 3230, 3231, 3232, 3235, 3238, 3239, 3240, 3247, 3248, 3249, 3251, 3255, 3259, 3264, 3271, 3275, 3278, 3281, 3283, 3284, 3286, 3293, 3295, 3297, 3298, 3300, 3302, 3306, 3309, 3310, 3312, 3315, 3324, 3327, 3331, 3333, 3336, 3337, 3338, 3343, 3350, 3357, 3362, 3363, 3367, 3370, 3371, 3372, 3379, 3386, 3392, 3394, 3395, 3396, 3397, 3398, 3402, 3404, 3405, 3406, 3410, 3429, 3432, 3436, 3438, 3439, 3440, 3443, 3445, 3448, 3449, 3450, 3451, 3455, 3460, 3468, 3471, 3473, 3476, 3478, 3489, 3492, 3493, 3499, 3506, 3507, 3512, 3514, 3516, 3535, 3536, 3539, 3541, 3550, 3559, 3561, 3575, 3577, 3589, 3591, 3603, 3606, 3612, 3613, 3629, 3630, 3633, 3645, 3647, 3651, 3656, 3658, 3660, 3671, 3672, 3673, 3679, 3682, 3684, 3688, 3692, 3698, 3699, 3700, 3701, 3708, 3710, 3713, 3717, 3720, 3729, 3736, 3738, 3741, 3744, 3746, 3747, 3751, 3763, 3765, 3773, 3777, 3778, 3780, 3782, 3784, 3785, 3787, 3789, 3793, 3794, 3803, 3806, 3811, 3814, 3815, 3823, 3826, 3837, 3847, 3852, 3853, 3856, 3864, 3866, 3868, 3869, 3870, 3874, 3875, 3877, 3878, 3883, 3889, 3890, 3894, 3896, 3897, 3898, 3900, 3902, 3904, 3905, 3908, 3913, 3915, 3917, 3920, 3923, 3926, 3927, 3932, 3933, 3936, 3938, 3941, 3942, 3945, 3946, 3948, 3949, 3951, 3953, 3957, 3959, 3962, 3966, 3974, 3978, 3987, 3993, 3994, 3995, 3997, 3998, 4002, 4004, 4010, 4014, 4022, 4024, 4037, 4049, 4050, 4053, 4054, 4059, 4062, 4064, 4075, 4076, 4085, 4087, 4088, 4089, 4092, 4094, 4098, 4102, 4103, 4107, 4113, 4116, 4117, 4119, 4122, 4123, 4126, 4136, 4139, 4143, 4147, 4150, 4151, 4152, 4166, 4169, 4170, 4179, 4186, 4187, 4188, 4189, 4190, 4200, 4201, 4206, 4214, 4217, 4218, 4226, 4231, 4232, 4234, 4235, 4244, 4247, 4249, 4250, 4261, 4263, 4264, 4265, 4268, 4269, 4276, 4284, 4285, 4288, 4290, 4291, 4294, 4299, 4300, 4303, 4310, 4312, 4315, 4317, 4320, 4321, 4322, 4323, 4324, 4326, 4327, 4330, 4332, 4334, 4340, 4341, 4342, 4348, 4349, 4351, 4352, 4355, 4356, 4358, 4362, 4363, 4365, 4369, 4372, 4373, 4375, 4376, 4380, 4381, 4384, 4391, 4392, 4397, 4401, 4403, 4405, 4408, 4412, 4413, 4415, 4417, 4425, 4430, 4433, 4441, 4454, 4457, 4462, 4463, 4473, 4483, 4492, 4494, 4495, 4498, 4500, 4501, 4504, 4506, 4510, 4512, 4520, 4521, 4522, 4525, 4534, 4535, 4536, 4538, 4544, 4548, 4553, 4564, 4569, 4571, 4579, 4585, 4586, 4591, 4594, 4597, 4600, 4609, 4610, 4611, 4613, 4614, 4616, 4617, 4629, 4632, 4638, 4639, 4650, 4656, 4665, 4672, 4673, 4681, 4683, 4685, 4686, 4693, 4698, 4703, 4704, 4705, 4718, 4724, 4729, 4732, 4738, 4739, 4742, 4744, 4749, 4751, 4752, 4762, 4766, 4784, 4785, 4788, 4791, 4794, 4795, 4797, 4806, 4807, 4808, 4814, 4816, 4818, 4822, 4837, 4839, 4855, 4868, 4872, 4873, 4877, 4879, 4895, 4899, 4906, 4912, 4914, 4917, 4921, 4922, 4926, 4929, 4933, 4936, 4938, 4940, 4952, 4954, 4957, 4969, 4970, 4981, 4987, 4993, 4998, 5000, 5003, 5006, 5009, 5015, 5017, 5020, 5021, 5022, 5025, 5030, 5035, 5040, 5048, 5055, 5057, 5059, 5067, 5070, 5072, 5075, 5076, 5077, 5082, 5084, 5089, 5093, 5097, 5102, 5108, 5115, 5116, 5122, 5123, 5130, 5131, 5133, 5139, 5140, 5146, 5150, 5157, 5161, 5168, 5169, 5174, 5187, 5193, 5201, 5205, 5206, 5210, 5214, 5218, 5219, 5221, 5225, 5227, 5241, 5243, 5248, 5258, 5259, 5260, 5263, 5264, 5266, 5267, 5270, 5274, 5275, 5279, 5281, 5284, 5286, 5287, 5290, 5292, 5300, 5302, 5303, 5311, 5312, 5314, 5316, 5317, 5318, 5320, 5321, 5322, 5331, 5335, 5342, 5343, 5345, 5351, 5355, 5357, 5358, 5360, 5363, 5367, 5369, 5370, 5373, 5375, 5377, 5385, 5389, 5395, 5398, 5403, 5416, 5419, 5421, 5423, 5429, 5431, 5433, 5434, 5440, 5442, 5445, 5454, 5455, 5460, 5462, 5471, 5477, 5478, 5481, 5482, 5488, 5496, 5502, 5503, 5507, 5509, 5512, 5517, 5518, 5531, 5532, 5533, 5541, 5542, 5543, 5548, 5550, 5559, 5561, 5563, 5564, 5566, 5567, 5571, 5576, 5578, 5579, 5584, 5585, 5590, 5592, 5593, 5595, 5596, 5603, 5604, 5606, 5610, 5612, 5613, 5615, 5616, 5618, 5621, 5622, 5623, 5624, 5625, 5626, 5635, 5636, 5640, 5641, 5651, 5656, 5658, 5661, 5662, 5664, 5668, 5680, 5682, 5685, 5691, 5693, 5694, 5695, 5696, 5699, 5703, 5715, 5716, 5717, 5718, 5722, 5728, 5736, 5744, 5759, 5765, 5782, 5783, 5789, 5793, 5798, 5806, 5807, 5811, 5814, 5815, 5816, 5829, 5842, 5844, 5850, 5856, 5865, 5866, 5867, 5868, 5870, 5872, 5884, 5885, 5892, 5893, 5894, 5898, 5899, 5902, 5906, 5909, 5915, 5918, 5923, 5930, 5944, 5949, 5951, 5965, 5968, 5969, 5973, 5974, 5976, 5977, 5978, 5981, 5982, 5984, 5988, 5994, 5995, 5996, 6029, 6038, 6057, 6061, 6066, 6069, 6071, 6073, 6074, 6079, 6080, 6084, 6096, 6099, 6113, 6116, 6119, 6124, 6127, 6128, 6131, 6133, 6138, 6145, 6146, 6150, 6152, 6154, 6163, 6164, 6175, 6185, 6190, 6193, 6199, 6212, 6213, 6216, 6243, 6244, 6252, 6255, 6257, 6259, 6263, 6264, 6275, 6276, 6277, 6279, 6280, 6284, 6286, 6292, 6300, 6303, 6304, 6309, 6315, 6316, 6317, 6318, 6320, 6322, 6324, 6326, 6327, 6335, 6347, 6348, 6352, 6353, 6356, 6364, 6365, 6370, 6372, 6377, 6382, 6386, 6387, 6400, 6401, 6403, 6405, 6408, 6409, 6415, 6418, 6421, 6422, 6424, 6426, 6427, 6428, 6430, 6433, 6435, 6457, 6465, 6466, 6479, 6482, 6489, 6496, 6500, 6504, 6509, 6513, 6515, 6517, 6518, 6520, 6523, 6524, 6526, 6534, 6539, 6540, 6550, 6555, 6558, 6561, 6564, 6584, 6585, 6586, 6589, 6592, 6597, 6603, 6607, 6609, 6617, 6618, 6621, 6622, 6623, 6628, 6629, 6630, 6631, 6640, 6652, 6653, 6661, 6667, 6671, 6673, 6690, 6710, 6712, 6719, 6731, 6734, 6739, 6741, 6749, 6750, 6751, 6752, 6755, 6758, 6759, 6760, 6765, 6766, 6767, 6768, 6769, 6770, 6771, 6773, 6774, 6777, 6782, 6785, 6786, 6787, 6790, 6795, 6798, 6803, 6807, 6808, 6809, 6811, 6815, 6816, 6820, 6821, 6822, 6828, 6832, 6833, 6840, 6842, 6843, 6845, 6847, 6848, 6849, 6851, 6854, 6862, 6863, 6868, 6869, 6874, 6877, 6878, 6879, 6892, 6893, 6901, 6909, 6912, 6919, 6921, 6924, 6939, 6949, 6951, 6954, 6955, 6956, 6957, 6959, 6964, 6968, 6969, 6970, 6971, 6977, 6980, 6989, 6992, 7002, 7007, 7014, 7016, 7017, 7022, 7026, 7033, 7038, 7049, 7068, 7069, 7078, 7082, 7084, 7085, 7102, 7106, 7107, 7109, 7114, 7118, 7126, 7135, 7136, 7138, 7142, 7154, 7160, 7165, 7167, 7172, 7178, 7182, 7183, 7184, 7185, 7189, 7192, 7193, 7194, 7196, 7199, 7203, 7209, 7215, 7216, 7223, 7224, 7225, 7227, 7230, 7236, 7246, 7256, 7257, 7260, 7266, 7274, 7276, 7278, 7281, 7286, 7288, 7289, 7295, 7296, 7299, 7305, 7306, 7307, 7311, 7312, 7314, 7315, 7316, 7325, 7338, 7344, 7345, 7350, 7357, 7367, 7369, 7374, 7387, 7392, 7395, 7409, 7417, 7419, 7425, 7429, 7433, 7435, 7448, 7450, 7451, 7464, 7468, 7475, 7477, 7491, 7501, 7502, 7504, 7512, 7513, 7521, 7529, 7531, 7533, 7543, 7552, 7553, 7559, 7567, 7574, 7579, 7581, 7587, 7590, 7597, 7605, 7606, 7622, 7625, 7636, 7637, 7641, 7642, 7643, 7647, 7648, 7650, 7657, 7661, 7666, 7669, 7670, 7671, 7672, 7674, 7675, 7677, 7680, 7683, 7693, 7704, 7707, 7708, 7709, 7714, 7716, 7722, 7725, 7731, 7735, 7747, 7768, 7772, 7773, 7777, 7778, 7789, 7806, 7809, 7810, 7815, 7817, 7825, 7827, 7831, 7832, 7833, 7834, 7838, 7844, 7846, 7851, 7861, 7862, 7874, 7875, 7877, 7878, 7881, 7882, 7884, 7898, 7899, 7904, 7921, 7923, 7927, 7934, 7935, 7937, 7940, 7941, 7951, 7961, 7962, 7969, 7979, 7981, 7990, 7993, 8006, 8010, 8011, 8019, 8022, 8027, 8030, 8031, 8032, 8038, 8046, 8047, 8049, 8050, 8052, 8053, 8054, 8059, 8060, 8061, 8065, 8071, 8072, 8075, 8078, 8081, 8083, 8087, 8092, 8093, 8096, 8100, 8101, 8102, 8106, 8113, 8115, 8123, 8124, 8126, 8128, 8131, 8141, 8142, 8150, 8153, 8155, 8157, 8158, 8164, 8170, 8171, 8172, 8178, 8180, 8183, 8184, 8189, 8191, 8192, 8193, 8205, 8213, 8214, 8219, 8221, 8228, 8234, 8238, 8259, 8263, 8264, 8265, 8266, 8270, 8277, 8279, 8280, 8283, 8291, 8295, 8298, 8300, 8301, 8316, 8320, 8321, 8331, 8332, 8334, 8337, 8345, 8347, 8351, 8352, 8359, 8360, 8372, 8373, 8374, 8377, 8380, 8387, 8388, 8389, 8395, 8397, 8401, 8406, 8415, 8441, 8445, 8448, 8455, 8461, 8463, 8466, 8474, 8476, 8478, 8481, 8482, 8484, 8490, 8499, 8501, 8503, 8506, 8509, 8511, 8512, 8515, 8516, 8520, 8521, 8525, 8532, 8541, 8549, 8551, 8557, 8560, 8561, 8562, 8563, 8571, 8572, 8573, 8591, 8593, 8595, 8596, 8597, 8598, 8599, 8601, 8603, 8609, 8611, 8616, 8618, 8620, 8621, 8625, 8631, 8636, 8642, 8647, 8651, 8657, 8659, 8661, 8665, 8667, 8669, 8676, 8679, 8686, 8699, 8700, 8702, 8704, 8707, 8715, 8717, 8722, 8723, 8724, 8727, 8732, 8733, 8741, 8744, 8746, 8750, 8760, 8763, 8767, 8773, 8776, 8779, 8790, 8796, 8799, 8800, 8801, 8802, 8803, 8805, 8810, 8820, 8824, 8835, 8836, 8837, 8838, 8863, 8874, 8876, 8879, 8882, 8883, 8888, 8898, 8899, 8903, 8905, 8907, 8912, 8913, 8914, 8917, 8918, 8919, 8925, 8927, 8928, 8933, 8935, 8947, 8955, 8960, 8963, 8973, 8977, 9008, 9014, 9015, 9025, 9030, 9032, 9037, 9041, 9047, 9048, 9052, 9054, 9056, 9062, 9064, 9065, 9070, 9072, 9077, 9078, 9081, 9083, 9085, 9092, 9096, 9103, 9104, 9106, 9108, 9110, 9111, 9114, 9122, 9128, 9131, 9142, 9148, 9155, 9160, 9163, 9166, 9170, 9172, 9187, 9190, 9191, 9202, 9207, 9209, 9212, 9217, 9242, 9244, 9252, 9258, 9265, 9271, 9272, 9273, 9275, 9286, 9302, 9305, 9312, 9313, 9314, 9315, 9319, 9325, 9348, 9351, 9359, 9360, 9378, 9381, 9382, 9392, 9394, 9395, 9397, 9399, 9407, 9411, 9412, 9415, 9417, 9420, 9423, 9424, 9427, 9435, 9438, 9443, 9455, 9458, 9460, 9467, 9468, 9469, 9473, 9475, 9476, 9491, 9496, 9501, 9503, 9504, 9506, 9509, 9519, 9525, 9527, 9530, 9533, 9537, 9538, 9543, 9547, 9549, 9554, 9556, 9559, 9562, 9570, 9572, 9595, 9610, 9612, 9619, 9633, 9634, 9647, 9648, 9649, 9650, 9654, 9655, 9660, 9668, 9674, 9677, 9681, 9693, 9694, 9698, 9711, 9716, 9724, 9726, 9730, 9734, 9735, 9740, 9741, 9743, 9746, 9748, 9752, 9753, 9754, 9755, 9765, 9767, 9776, 9781, 9786, 9795, 9802, 9804, 9811, 9817, 9822, 9825, 9833, 9837, 9839, 9841, 9843, 9850, 9852, 9854, 9863, 9867, 9884, 9896, 9905, 9907, 9924, 9932, 9936, 9945, 9956, 9957, 9962, 9967, 9978, 9979, 9983, 9984, 9985, 9988, 9989, 9993, 10000, 10002, 10005, 10007, 10009, 10016, 10024, 10030, 10032, 10045, 10052, 10058, 10067, 10071, 10072, 10082, 10086, 10094, 10100, 10102, 10103, 10106, 10107, 10108, 10109, 10111, 10119, 10121, 10125, 10126, 10130, 10132, 10133, 10135, 10140, 10144, 10151, 10153, 10157, 10159, 10169, 10175, 10176, 10184, 10190, 10193, 10205, 10210, 10212, 10214, 10220, 10226, 10234, 10235, 10239, 10241, 10244, 10245, 10246, 10247, 10248, 10256, 10262, 10264, 10270, 10273, 10279, 10286, 10288, 10291, 10295, 10306, 10312, 10320, 10321, 10328, 10336, 10340, 10343, 10346, 10349, 10350, 10353, 10356, 10367, 10371, 10372, 10373, 10376, 10384, 10392, 10401, 10405, 10418, 10424, 10438, 10442, 10444, 10448, 10454, 10461, 10467, 10476, 10480, 10490, 10492, 10506, 10507, 10511, 10514, 10515, 10537, 10539, 10550, 10554, 10562, 10565, 10567, 10574, 10580, 10584, 10589, 10590, 10592, 10599, 10602, 10608, 10615, 10626, 10633, 10634, 10637, 10645, 10646, 10649, 10678, 10684, 10687, 10706, 10710, 10711, 10722, 10727, 10734, 10741, 10746, 10752, 10753, 10754, 10757, 10766, 10770, 10778, 10781, 10785, 10786, 10791, 10799, 10801, 10803, 10827, 10830, 10837, 10842, 10852, 10853, 10854, 10855, 10857, 10863, 10865, 10866, 10871, 10872, 10877, 10880, 10889, 10914, 10916, 10919, 10921, 10926, 10929, 10931, 10932, 10938, 10951, 10960, 10967, 10968, 10969, 10991, 11011, 11016, 11023, 11038, 11041, 11042, 11060, 11065, 11078, 11079, 11092, 11093, 11095, 11097, 11101, 11106, 11107, 11118, 11120, 11125, 11131, 11135, 11138, 11141, 11143, 11153, 11156, 11157, 11168, 11181, 11204, 11205, 11210, 11219, 11225, 11229, 11231, 11232, 11233, 11244, 11262, 11277, 11281, 11282, 11284, 11285, 11299, 11304, 11313, 11314, 11315, 11318, 11324, 11332, 11334, 11337, 11344, 11345, 11347, 11363, 11365, 11367, 11370, 11388, 11405, 11409, 11410, 11415, 11416, 11423, 11425, 11428, 11433, 11439, 11440, 11462, 11474, 11483, 11489, 11496, 11505, 11509, 11514, 11524, 11549, 11561, 11564, 11565, 11570, 11578, 11592, 11593, 11596, 11600, 11609, 11615, 11616, 11619, 11632, 11634, 11638, 11641, 11645, 11657, 11667, 11672, 11673, 11715, 11728, 11732, 11737, 11744, 11748, 11758, 11759, 11766, 11776, 11789, 11790, 11792, 11794, 11796, 11799, 11814, 11816, 11817, 11822, 11824, 11826, 11829, 11835, 11839, 11845, 11862, 11866, 11876, 11886, 11898, 11899, 11902, 11912, 11915, 11918, 11919, 11921, 11922, 11926, 11933, 11940, 11944, 11946, 11947, 11950, 11962, 11971, 11985, 11998, 12002, 12003, 12015, 12025, 12031, 12037, 12038, 12039, 12049, 12055, 12058, 12060, 12064, 12073, 12082, 12083, 12090, 12102, 12107, 12108, 12120, 12121, 12141, 12143, 12146, 12148, 12153, 12159, 12162, 12166, 12186, 12192, 12194, 12196, 12204, 12206, 12215, 12221, 12224, 12225, 12226, 12228, 12234, 12237, 12238, 12242, 12243, 12250, 12254, 12259, 12260, 12269, 12274, 12294, 12295, 12296, 12308, 12309, 12316, 12320, 12322, 12335, 12341, 12342, 12349, 12353, 12354, 12356, 12359, 12365, 12367, 12368, 12370, 12372, 12375, 12382, 12383, 12385, 12390, 12391, 12398, 12409, 12417, 12418, 12421, 12422, 12427, 12438, 12455, 12470, 12473, 12476, 12482, 12486, 12487, 12499, 12504, 12510, 12514, 12521, 12525, 12526, 12539, 12542, 12546, 12570, 12574, 12583, 12595, 12603, 12604, 12607, 12614, 12624, 12627, 12628, 12638, 12645, 12650, 12669, 12680, 12681, 12701, 12705, 12710, 12712, 12713, 12718, 12719, 12721, 12729, 12735, 12746, 12752, 12755, 12759, 12773, 12780, 12798, 12799, 12805, 12813, 12820, 12824, 12829, 12833, 12842, 12847, 12850, 12853, 12854, 12856, 12857, 12868, 12872, 12900, 12906, 12907, 12908, 12914, 12916, 12920, 12928, 12930, 12932, 12937, 12943, 12947, 12952, 12963, 12968, 12969, 12972, 12975, 12994, 12995, 13001, 13003, 13007, 13012, 13030, 13060, 13069, 13076, 13077, 13078, 13080, 13091, 13096, 13098, 13101, 13103, 13104, 13109, 13126, 13136, 13137, 13139, 13141, 13144, 13152, 13153, 13162, 13168, 13173, 13184, 13189, 13190, 13196, 13201, 13203, 13204, 13214, 13218, 13219, 13228, 13236, 13242, 13255, 13263, 13269, 13271, 13278, 13282, 13283, 13288, 13296, 13297, 13298, 13302, 13311, 13314, 13320, 13340, 13343, 13346, 13356, 13361, 13368, 13369, 13372, 13377, 13381, 13383, 13385, 13386, 13392, 13398, 13402, 13415, 13420, 13432, 13442, 13444, 13446, 13454, 13460, 13467, 13469, 13472, 13483, 13492, 13494, 13499, 13500, 13503, 13531, 13533, 13534, 13538, 13542, 13544, 13549, 13560, 13567, 13569, 13571, 13572, 13581, 13585, 13589, 13592, 13594, 13595, 13603, 13619, 13620, 13628, 13638, 13645, 13651, 13657, 13664, 13675, 13678, 13687, 13693, 13701, 13717, 13718, 13724, 13729, 13737, 13743, 13751, 13753, 13754, 13757, 13766, 13772, 13773, 13774, 13776, 13784, 13786, 13789, 13790, 13797, 13798, 13799, 13812, 13828, 13830, 13834, 13839, 13844, 13849, 13851, 13855, 13859, 13862, 13865, 13866, 13867, 13872, 13873, 13888, 13890, 13893, 13895, 13898, 13899, 13910, 13929, 13938, 13940, 13942, 13951, 13953, 13956, 13966, 13967, 13973, 13975, 13977, 13978, 13994, 14001, 14012, 14023, 14027, 14029, 14031, 14051, 14058, 14073, 14091, 14095, 14096, 14098, 14101, 14103, 14111, 14129, 14130, 14131, 14144, 14154, 14161, 14169, 14190, 14192, 14203, 14206, 14209, 14215, 14226, 14227, 14242, 14245, 14247, 14251, 14252, 14259, 14269, 14280, 14281, 14293, 14294, 14295, 14296, 14301, 14317, 14318, 14321, 14323, 14327, 14341, 14363, 14372, 14377, 14380, 14415, 14416, 14419, 14427, 14428, 14436, 14449, 14457, 14461, 14469, 14473, 14475, 14480, 14487, 14491, 14493, 14495, 14501, 14503, 14507, 14509, 14539, 14543, 14547, 14562, 14567, 14571, 14574, 14576, 14600, 14608, 14610, 14615, 14630, 14634, 14637, 14639, 14640, 14642, 14645, 14649, 14655, 14657, 14679, 14687, 14699, 14701, 14702, 14704, 14708, 14710, 14715, 14717, 14720, 14721, 14725, 14731, 14733, 14747, 14757, 14762, 14770, 14773, 14776, 14786, 14791, 14792, 14793, 14797, 14799, 14811, 14816, 14831, 14835, 14838, 14840, 14849, 14857, 14873, 14893, 14898, 14899, 14900, 14901, 14902, 14917, 14921, 14932, 14943, 14949, 14954, 14961, 14965, 14967, 14976, 14978, 14982, 15003, 15009, 15010, 15026, 15027, 15045, 15057, 15072, 15090, 15100, 15111, 15113, 15125, 15126, 15130, 15135, 15137, 15138, 15140, 15146, 15148, 15153, 15154, 15155, 15161, 15168, 15175, 15176, 15181, 15184, 15185, 15191, 15193, 15213, 15229, 15234, 15246, 15248, 15251, 15256, 15270, 15281, 15282, 15290, 15296, 15307, 15330, 15333, 15334, 15336, 15349, 15350, 15353, 15360, 15363, 15365, 15370, 15374, 15389, 15397, 15403, 15407, 15416, 15418, 15448, 15450, 15457, 15459, 15464, 15472, 15474, 15483, 15485, 15487, 15502, 15512, 15520, 15524, 15532, 15533, 15534, 15539, 15542, 15551, 15553, 15554, 15571, 15574, 15582, 15591, 15594, 15600, 15603, 15604, 15606, 15615, 15616, 15618, 15623, 15636, 15644, 15652, 15659, 15664, 15674, 15682, 15683, 15706, 15715, 15718, 15731, 15733, 15738, 15739, 15745, 15760, 15761, 15768, 15773, 15774, 15778, 15780, 15782, 15784, 15785, 15804, 15807, 15819, 15822, 15830, 15834, 15841, 15853, 15854, 15866, 15874, 15875, 15876, 15882, 15887, 15890, 15902, 15912, 15915, 15920, 15923, 15934, 15935, 15938, 15939, 15947, 15948, 15954, 15956, 15957, 15977, 15980, 16001, 16007, 16014, 16029, 16038, 16050, 16056, 16059, 16062, 16063, 16066, 16071, 16074, 16076, 16079, 16081, 16087, 16088, 16107, 16112, 16119, 16120, 16127, 16129, 16152, 16153, 16154, 16162, 16165, 16168, 16169, 16171, 16176, 16202, 16243, 16245, 16253, 16255, 16265, 16275, 16290, 16291, 16296, 16302, 16311, 16328, 16334, 16339, 16351, 16363, 16366, 16370, 16371, 16386, 16390, 16393, 16395, 16396, 16397, 16399, 16405, 16414, 16426, 16433, 16437, 16442, 16444, 16445, 16446, 16451, 16459, 16461, 16462, 16467, 16468, 16470, 16472, 16473, 16475, 16478, 16479, 16482, 16483, 16489, 16490, 16495, 16498, 16504, 16510, 16520, 16522, 16530, 16531, 16533, 16540, 16541, 16542, 16543, 16548, 16559, 16566, 16575, 16578, 16580, 16583, 16606, 16611, 16612, 16631, 16640, 16641, 16643, 16647, 16652, 16660, 16667, 16673, 16697, 16704, 16706, 16734, 16744, 16760, 16762, 16775, 16782, 16783, 16787, 16794, 16799, 16808, 16809, 16842, 16845, 16849, 16865, 16869, 16870, 16872, 16879, 16880, 16891, 16893, 16897, 16905, 16911, 16916, 16917, 16918, 16922, 16932, 16954, 16957, 16968, 17009, 17026, 17041, 17044, 17048, 17059, 17060, 17061, 17081, 17084, 17086, 17091, 17096, 17103, 17104, 17133, 17163, 17171, 17175, 17196, 17199, 17202, 17209, 17216, 17219, 17225, 17233, 17240, 17243, 17246, 17250, 17251, 17252, 17260, 17267, 17275, 17277, 17279, 17282, 17290, 17291, 17296, 17301, 17342, 17366, 17388, 17421, 17422, 17425, 17426, 17428, 17447, 17485, 17488, 17491, 17495, 17499, 17506, 17539, 17549, 17557, 17562, 17572, 17581, 17587, 17588, 17601, 17607, 17612, 17631, 17669, 17675, 17676, 17677, 17685, 17689, 17690, 17696, 17714, 17726, 17751, 17773, 17783, 17797, 17798, 17806, 17814, 17822, 17824, 17827, 17836, 17838, 17853, 17896, 17899, 17917, 17919, 17927, 17940, 17987, 17999, 18015, 18027, 18029, 18034, 18070, 18075, 18078, 18096, 18104, 18107, 18147, 18181, 18189, 18195, 18206, 18207, 18212, 18214, 18224, 18225, 18226, 18231, 18234, 18282, 18307, 18309, 18314, 18318, 18319, 18321, 18324, 18327, 18332, 18339, 18349, 18350, 18356, 18362, 18365, 18367, 18393, 18394, 18399, 18401, 18404, 18409, 18411, 18416, 18417, 18418, 18422, 18423, 18429, 18453, 18485, 18514, 18515, 18528, 18529, 18547, 18629, 18638, 18644, 18647, 18649, 18650, 18678, 18682, 18688, 18692, 18695, 18725, 18763, 18764, 18769, 18775, 18796, 18814, 18816, 18822, 18827, 18836, 18837, 18853, 18865, 18876, 18878, 18890, 18908, 18922, 18931, 18934, 18952, 18959, 18960, 18964, 18993, 18996, 18999, 19000, 19002, 19005, 19023, 19033, 19035, 19052, 19066, 19076, 19104, 19111, 19127, 19136, 19147, 19152, 19164, 19167, 19183, 19188, 19207, 19222, 19259, 19269, 19285, 19291, 19293, 19294, 19314, 19320, 19322, 19326, 19335, 19336, 19339, 19350, 19352, 19363, 19364, 19387, 19395, 19396, 19397, 19420, 19425, 19454, 19478, 19479, 19482, 19505, 19511, 19519, 19530, 19532, 19538, 19539, 19552, 19554, 19555, 19582, 19583, 19590, 19610, 19611, 19624, 19629, 19631, 19638, 19640, 19668, 19669, 19672, 19687, 19688, 19689, 19696, 19701, 19705, 19707, 19735, 19745, 19751, 19761, 19763, 19788, 19792, 19794, 19807, 19816, 19850, 19865, 19885, 19887, 19889, 19895, 19908, 19911, 19917, 19956, 19967, 20101, 20104, 20106, 20127, 20145, 20221, 20236, 20262, 20293, 20339, 20340, 20360, 20364, 20381, 20452, 20583]\n"
          ]
        }
      ],
      "source": [
        "removeable_indices = []\n",
        "\n",
        "for i in range(0, len(df[\"Text\"])):\n",
        "  # print(, i)\n",
        "  if len(df[\"Text\"][i].split()) < 2:\n",
        "    removeable_indices.append(i)\n",
        "print(removeable_indices)"
      ]
    },
    {
      "cell_type": "code",
      "execution_count": null,
      "metadata": {
        "id": "pPDn42zUk_Hk"
      },
      "outputs": [],
      "source": [
        "df = df.drop(removeable_indices)\n",
        "df.reset_index(inplace=True, drop=True)"
      ]
    },
    {
      "cell_type": "code",
      "execution_count": null,
      "metadata": {
        "colab": {
          "base_uri": "https://localhost:8080/",
          "height": 677
        },
        "id": "Qb0fXsBpM44v",
        "outputId": "71da310f-aae4-4e9d-eb7f-5af69d3557a7"
      },
      "outputs": [
        {
          "output_type": "execute_result",
          "data": {
            "text/plain": [
              "                     Datetime             Tweet Id  \\\n",
              "0   2023-05-27 23:06:22+00:00  1662596135679131649   \n",
              "1   2023-05-27 23:06:02+00:00  1662596048076906501   \n",
              "2   2023-05-27 19:22:09+00:00  1662539707559952384   \n",
              "3   2023-05-27 19:03:00+00:00  1662534890133372931   \n",
              "4   2023-05-27 18:42:26+00:00  1662529714634752001   \n",
              "5   2023-05-27 18:38:41+00:00  1662528767221280768   \n",
              "6   2023-05-27 17:52:26+00:00  1662517130779058176   \n",
              "7   2023-05-27 16:57:29+00:00  1662503299378032640   \n",
              "8   2023-05-27 16:52:16+00:00  1662501986627977218   \n",
              "9   2023-05-27 15:46:20+00:00  1662485396213710849   \n",
              "10  2023-05-27 03:11:42+00:00  1662295487813148673   \n",
              "11  2023-05-27 03:08:51+00:00  1662294768049696769   \n",
              "12  2023-05-27 03:05:27+00:00  1662293913330237441   \n",
              "13  2023-05-27 03:03:50+00:00  1662293507925590016   \n",
              "14  2023-05-27 03:01:03+00:00  1662292805312495618   \n",
              "15  2023-05-27 02:58:37+00:00  1662292194672230400   \n",
              "16  2023-05-27 02:57:04+00:00  1662291805587554304   \n",
              "17  2023-05-27 02:56:01+00:00  1662291539635126272   \n",
              "18  2023-05-27 01:47:14+00:00  1662274227385376768   \n",
              "19  2023-05-27 01:22:03+00:00  1662267891268349956   \n",
              "\n",
              "                                                 Text  Username  \n",
              "0                                   On Twitter I mean  elonmusk  \n",
              "1                                        Jack is back  elonmusk  \n",
              "2                    Office Space is an awesome movie  elonmusk  \n",
              "3                                      A real problem  elonmusk  \n",
              "4   Previously I had thought it was some pescatari...  elonmusk  \n",
              "5   I was today’s years old when I learned that so...  elonmusk  \n",
              "6              We are insulated from this in the west  elonmusk  \n",
              "7                          Not sure why this happened  elonmusk  \n",
              "8                    Just tap the button for FSD Beta  elonmusk  \n",
              "9                                   Sounds reasonable  elonmusk  \n",
              "10                               He might actually be  elonmusk  \n",
              "11  That was many years ago. Their cars are highly...  elonmusk  \n",
              "12                                        Pretty much  elonmusk  \n",
              "13  Hold on to your horse as the carousel of desti...  elonmusk  \n",
              "14                                Bruh do you even AI  elonmusk  \n",
              "15             Maybe it’s not true hence the question  elonmusk  \n",
              "16                    Too many social media companies  elonmusk  \n",
              "17                                       Is this true  elonmusk  \n",
              "18  I have made the invitation several times inclu...  elonmusk  \n",
              "19  Starship is the first rocketspaceship with the...  elonmusk  "
            ],
            "text/html": [
              "\n",
              "  <div id=\"df-f8dda2fc-d1ad-4ee0-85d4-0e5cfc3cb22e\">\n",
              "    <div class=\"colab-df-container\">\n",
              "      <div>\n",
              "<style scoped>\n",
              "    .dataframe tbody tr th:only-of-type {\n",
              "        vertical-align: middle;\n",
              "    }\n",
              "\n",
              "    .dataframe tbody tr th {\n",
              "        vertical-align: top;\n",
              "    }\n",
              "\n",
              "    .dataframe thead th {\n",
              "        text-align: right;\n",
              "    }\n",
              "</style>\n",
              "<table border=\"1\" class=\"dataframe\">\n",
              "  <thead>\n",
              "    <tr style=\"text-align: right;\">\n",
              "      <th></th>\n",
              "      <th>Datetime</th>\n",
              "      <th>Tweet Id</th>\n",
              "      <th>Text</th>\n",
              "      <th>Username</th>\n",
              "    </tr>\n",
              "  </thead>\n",
              "  <tbody>\n",
              "    <tr>\n",
              "      <th>0</th>\n",
              "      <td>2023-05-27 23:06:22+00:00</td>\n",
              "      <td>1662596135679131649</td>\n",
              "      <td>On Twitter I mean</td>\n",
              "      <td>elonmusk</td>\n",
              "    </tr>\n",
              "    <tr>\n",
              "      <th>1</th>\n",
              "      <td>2023-05-27 23:06:02+00:00</td>\n",
              "      <td>1662596048076906501</td>\n",
              "      <td>Jack is back</td>\n",
              "      <td>elonmusk</td>\n",
              "    </tr>\n",
              "    <tr>\n",
              "      <th>2</th>\n",
              "      <td>2023-05-27 19:22:09+00:00</td>\n",
              "      <td>1662539707559952384</td>\n",
              "      <td>Office Space is an awesome movie</td>\n",
              "      <td>elonmusk</td>\n",
              "    </tr>\n",
              "    <tr>\n",
              "      <th>3</th>\n",
              "      <td>2023-05-27 19:03:00+00:00</td>\n",
              "      <td>1662534890133372931</td>\n",
              "      <td>A real problem</td>\n",
              "      <td>elonmusk</td>\n",
              "    </tr>\n",
              "    <tr>\n",
              "      <th>4</th>\n",
              "      <td>2023-05-27 18:42:26+00:00</td>\n",
              "      <td>1662529714634752001</td>\n",
              "      <td>Previously I had thought it was some pescatari...</td>\n",
              "      <td>elonmusk</td>\n",
              "    </tr>\n",
              "    <tr>\n",
              "      <th>5</th>\n",
              "      <td>2023-05-27 18:38:41+00:00</td>\n",
              "      <td>1662528767221280768</td>\n",
              "      <td>I was today’s years old when I learned that so...</td>\n",
              "      <td>elonmusk</td>\n",
              "    </tr>\n",
              "    <tr>\n",
              "      <th>6</th>\n",
              "      <td>2023-05-27 17:52:26+00:00</td>\n",
              "      <td>1662517130779058176</td>\n",
              "      <td>We are insulated from this in the west</td>\n",
              "      <td>elonmusk</td>\n",
              "    </tr>\n",
              "    <tr>\n",
              "      <th>7</th>\n",
              "      <td>2023-05-27 16:57:29+00:00</td>\n",
              "      <td>1662503299378032640</td>\n",
              "      <td>Not sure why this happened</td>\n",
              "      <td>elonmusk</td>\n",
              "    </tr>\n",
              "    <tr>\n",
              "      <th>8</th>\n",
              "      <td>2023-05-27 16:52:16+00:00</td>\n",
              "      <td>1662501986627977218</td>\n",
              "      <td>Just tap the button for FSD Beta</td>\n",
              "      <td>elonmusk</td>\n",
              "    </tr>\n",
              "    <tr>\n",
              "      <th>9</th>\n",
              "      <td>2023-05-27 15:46:20+00:00</td>\n",
              "      <td>1662485396213710849</td>\n",
              "      <td>Sounds reasonable</td>\n",
              "      <td>elonmusk</td>\n",
              "    </tr>\n",
              "    <tr>\n",
              "      <th>10</th>\n",
              "      <td>2023-05-27 03:11:42+00:00</td>\n",
              "      <td>1662295487813148673</td>\n",
              "      <td>He might actually be</td>\n",
              "      <td>elonmusk</td>\n",
              "    </tr>\n",
              "    <tr>\n",
              "      <th>11</th>\n",
              "      <td>2023-05-27 03:08:51+00:00</td>\n",
              "      <td>1662294768049696769</td>\n",
              "      <td>That was many years ago. Their cars are highly...</td>\n",
              "      <td>elonmusk</td>\n",
              "    </tr>\n",
              "    <tr>\n",
              "      <th>12</th>\n",
              "      <td>2023-05-27 03:05:27+00:00</td>\n",
              "      <td>1662293913330237441</td>\n",
              "      <td>Pretty much</td>\n",
              "      <td>elonmusk</td>\n",
              "    </tr>\n",
              "    <tr>\n",
              "      <th>13</th>\n",
              "      <td>2023-05-27 03:03:50+00:00</td>\n",
              "      <td>1662293507925590016</td>\n",
              "      <td>Hold on to your horse as the carousel of desti...</td>\n",
              "      <td>elonmusk</td>\n",
              "    </tr>\n",
              "    <tr>\n",
              "      <th>14</th>\n",
              "      <td>2023-05-27 03:01:03+00:00</td>\n",
              "      <td>1662292805312495618</td>\n",
              "      <td>Bruh do you even AI</td>\n",
              "      <td>elonmusk</td>\n",
              "    </tr>\n",
              "    <tr>\n",
              "      <th>15</th>\n",
              "      <td>2023-05-27 02:58:37+00:00</td>\n",
              "      <td>1662292194672230400</td>\n",
              "      <td>Maybe it’s not true hence the question</td>\n",
              "      <td>elonmusk</td>\n",
              "    </tr>\n",
              "    <tr>\n",
              "      <th>16</th>\n",
              "      <td>2023-05-27 02:57:04+00:00</td>\n",
              "      <td>1662291805587554304</td>\n",
              "      <td>Too many social media companies</td>\n",
              "      <td>elonmusk</td>\n",
              "    </tr>\n",
              "    <tr>\n",
              "      <th>17</th>\n",
              "      <td>2023-05-27 02:56:01+00:00</td>\n",
              "      <td>1662291539635126272</td>\n",
              "      <td>Is this true</td>\n",
              "      <td>elonmusk</td>\n",
              "    </tr>\n",
              "    <tr>\n",
              "      <th>18</th>\n",
              "      <td>2023-05-27 01:47:14+00:00</td>\n",
              "      <td>1662274227385376768</td>\n",
              "      <td>I have made the invitation several times inclu...</td>\n",
              "      <td>elonmusk</td>\n",
              "    </tr>\n",
              "    <tr>\n",
              "      <th>19</th>\n",
              "      <td>2023-05-27 01:22:03+00:00</td>\n",
              "      <td>1662267891268349956</td>\n",
              "      <td>Starship is the first rocketspaceship with the...</td>\n",
              "      <td>elonmusk</td>\n",
              "    </tr>\n",
              "  </tbody>\n",
              "</table>\n",
              "</div>\n",
              "      <button class=\"colab-df-convert\" onclick=\"convertToInteractive('df-f8dda2fc-d1ad-4ee0-85d4-0e5cfc3cb22e')\"\n",
              "              title=\"Convert this dataframe to an interactive table.\"\n",
              "              style=\"display:none;\">\n",
              "        \n",
              "  <svg xmlns=\"http://www.w3.org/2000/svg\" height=\"24px\"viewBox=\"0 0 24 24\"\n",
              "       width=\"24px\">\n",
              "    <path d=\"M0 0h24v24H0V0z\" fill=\"none\"/>\n",
              "    <path d=\"M18.56 5.44l.94 2.06.94-2.06 2.06-.94-2.06-.94-.94-2.06-.94 2.06-2.06.94zm-11 1L8.5 8.5l.94-2.06 2.06-.94-2.06-.94L8.5 2.5l-.94 2.06-2.06.94zm10 10l.94 2.06.94-2.06 2.06-.94-2.06-.94-.94-2.06-.94 2.06-2.06.94z\"/><path d=\"M17.41 7.96l-1.37-1.37c-.4-.4-.92-.59-1.43-.59-.52 0-1.04.2-1.43.59L10.3 9.45l-7.72 7.72c-.78.78-.78 2.05 0 2.83L4 21.41c.39.39.9.59 1.41.59.51 0 1.02-.2 1.41-.59l7.78-7.78 2.81-2.81c.8-.78.8-2.07 0-2.86zM5.41 20L4 18.59l7.72-7.72 1.47 1.35L5.41 20z\"/>\n",
              "  </svg>\n",
              "      </button>\n",
              "      \n",
              "  <style>\n",
              "    .colab-df-container {\n",
              "      display:flex;\n",
              "      flex-wrap:wrap;\n",
              "      gap: 12px;\n",
              "    }\n",
              "\n",
              "    .colab-df-convert {\n",
              "      background-color: #E8F0FE;\n",
              "      border: none;\n",
              "      border-radius: 50%;\n",
              "      cursor: pointer;\n",
              "      display: none;\n",
              "      fill: #1967D2;\n",
              "      height: 32px;\n",
              "      padding: 0 0 0 0;\n",
              "      width: 32px;\n",
              "    }\n",
              "\n",
              "    .colab-df-convert:hover {\n",
              "      background-color: #E2EBFA;\n",
              "      box-shadow: 0px 1px 2px rgba(60, 64, 67, 0.3), 0px 1px 3px 1px rgba(60, 64, 67, 0.15);\n",
              "      fill: #174EA6;\n",
              "    }\n",
              "\n",
              "    [theme=dark] .colab-df-convert {\n",
              "      background-color: #3B4455;\n",
              "      fill: #D2E3FC;\n",
              "    }\n",
              "\n",
              "    [theme=dark] .colab-df-convert:hover {\n",
              "      background-color: #434B5C;\n",
              "      box-shadow: 0px 1px 3px 1px rgba(0, 0, 0, 0.15);\n",
              "      filter: drop-shadow(0px 1px 2px rgba(0, 0, 0, 0.3));\n",
              "      fill: #FFFFFF;\n",
              "    }\n",
              "  </style>\n",
              "\n",
              "      <script>\n",
              "        const buttonEl =\n",
              "          document.querySelector('#df-f8dda2fc-d1ad-4ee0-85d4-0e5cfc3cb22e button.colab-df-convert');\n",
              "        buttonEl.style.display =\n",
              "          google.colab.kernel.accessAllowed ? 'block' : 'none';\n",
              "\n",
              "        async function convertToInteractive(key) {\n",
              "          const element = document.querySelector('#df-f8dda2fc-d1ad-4ee0-85d4-0e5cfc3cb22e');\n",
              "          const dataTable =\n",
              "            await google.colab.kernel.invokeFunction('convertToInteractive',\n",
              "                                                     [key], {});\n",
              "          if (!dataTable) return;\n",
              "\n",
              "          const docLinkHtml = 'Like what you see? Visit the ' +\n",
              "            '<a target=\"_blank\" href=https://colab.research.google.com/notebooks/data_table.ipynb>data table notebook</a>'\n",
              "            + ' to learn more about interactive tables.';\n",
              "          element.innerHTML = '';\n",
              "          dataTable['output_type'] = 'display_data';\n",
              "          await google.colab.output.renderOutput(dataTable, element);\n",
              "          const docLink = document.createElement('div');\n",
              "          docLink.innerHTML = docLinkHtml;\n",
              "          element.appendChild(docLink);\n",
              "        }\n",
              "      </script>\n",
              "    </div>\n",
              "  </div>\n",
              "  "
            ]
          },
          "metadata": {},
          "execution_count": 13
        }
      ],
      "source": [
        "df.head(20)"
      ]
    },
    {
      "cell_type": "code",
      "execution_count": null,
      "metadata": {
        "id": "Vrk4biwaaHfa"
      },
      "outputs": [],
      "source": [
        "import numpy as np"
      ]
    },
    {
      "cell_type": "markdown",
      "source": [
        "Start of full text, encoding attempt"
      ],
      "metadata": {
        "id": "h5jf7GjhBBYJ"
      }
    },
    {
      "cell_type": "code",
      "execution_count": null,
      "metadata": {
        "id": "Ot0qgZgQ3dNe"
      },
      "outputs": [],
      "source": [
        "text_array = df[\"Text\"].to_numpy()\n",
        "all_data = \" \".join(text_array)"
      ]
    },
    {
      "cell_type": "markdown",
      "source": [
        "End of all text encoding attempt\n"
      ],
      "metadata": {
        "id": "vUbm4UmnBMOy"
      }
    },
    {
      "cell_type": "markdown",
      "source": [
        "Start of n-gram(?)"
      ],
      "metadata": {
        "id": "_WKwdvGfBpOV"
      }
    },
    {
      "cell_type": "code",
      "source": [
        "# using average sentence length of 25\n",
        "from tensorflow.keras.preprocessing.text import Tokenizer\n",
        "\n",
        "tokenizer = Tokenizer(oov_token=\"<OOV>\")\n",
        "all_data = all_data.split()\n",
        "tokenizer.fit_on_texts(all_data)\n",
        "\n",
        "total_words = len(tokenizer.word_index) + 1"
      ],
      "metadata": {
        "id": "tGc24OnFBoi_"
      },
      "execution_count": null,
      "outputs": []
    },
    {
      "cell_type": "code",
      "source": [
        "input_sequences = []\n",
        "max_seq_length = 25\n",
        "for line in df[\"Text\"]:\n",
        "  token_list = tokenizer.texts_to_sequences([line])[0]\n",
        "  for i in range(1, len(token_list)):\n",
        "    n_gram_sequence = token_list[:i+1]\n",
        "    if len(n_gram_sequence) <= max_seq_length:\n",
        "      input_sequences.append(n_gram_sequence)"
      ],
      "metadata": {
        "id": "Q1FaOwPRDGxT"
      },
      "execution_count": null,
      "outputs": []
    },
    {
      "cell_type": "code",
      "source": [
        "remove = []\n",
        "\n",
        "for n_gram in range(0, len(input_sequences)):\n",
        "  length = len(input_sequences[n_gram])\n",
        "  if length < 25:\n",
        "    for i in range(0, max_seq_length-length):\n",
        "      input_sequences[n_gram].insert(0, 0)"
      ],
      "metadata": {
        "id": "yJxnLMW-Im6J"
      },
      "execution_count": null,
      "outputs": []
    },
    {
      "cell_type": "code",
      "source": [
        "input_sequences = np.array(input_sequences)"
      ],
      "metadata": {
        "id": "JIBTuqakK6jF"
      },
      "execution_count": null,
      "outputs": []
    },
    {
      "cell_type": "markdown",
      "source": [
        "End of n-gram(?)"
      ],
      "metadata": {
        "id": "LZvzD0gTBxF8"
      }
    },
    {
      "cell_type": "code",
      "execution_count": null,
      "metadata": {
        "colab": {
          "base_uri": "https://localhost:8080/"
        },
        "id": "xRI1fQJXFWaM",
        "outputId": "46ee35d7-10f1-4a54-f804-015c11c19ac4"
      },
      "outputs": [
        {
          "output_type": "execute_result",
          "data": {
            "text/plain": [
              "25"
            ]
          },
          "metadata": {},
          "execution_count": 24
        }
      ],
      "source": [
        "len(input_sequences[0])"
      ]
    },
    {
      "cell_type": "code",
      "execution_count": null,
      "metadata": {
        "id": "XVkL3e1nlnSy"
      },
      "outputs": [],
      "source": [
        "vocabulary_size = len(tokenizer.word_counts)"
      ]
    },
    {
      "cell_type": "code",
      "execution_count": null,
      "metadata": {
        "colab": {
          "base_uri": "https://localhost:8080/"
        },
        "id": "_u4-FpJ9lpz7",
        "outputId": "39f32408-ea1e-4062-86e0-6ee3285747bb"
      },
      "outputs": [
        {
          "output_type": "execute_result",
          "data": {
            "text/plain": [
              "16304"
            ]
          },
          "metadata": {},
          "execution_count": 26
        }
      ],
      "source": [
        "vocabulary_size"
      ]
    },
    {
      "cell_type": "code",
      "execution_count": null,
      "metadata": {
        "colab": {
          "base_uri": "https://localhost:8080/"
        },
        "id": "l9h6odm4nE1m",
        "outputId": "56ab65d0-4079-4f0f-8400-c0461f922de1"
      },
      "outputs": [
        {
          "output_type": "execute_result",
          "data": {
            "text/plain": [
              "25"
            ]
          },
          "metadata": {},
          "execution_count": 27
        }
      ],
      "source": [
        "max_sequence_len = 25\n",
        "max_sequence_len"
      ]
    },
    {
      "cell_type": "code",
      "execution_count": null,
      "metadata": {
        "id": "EOIEWowjlrGz"
      },
      "outputs": [],
      "source": [
        "import numpy as np"
      ]
    },
    {
      "cell_type": "code",
      "execution_count": null,
      "metadata": {
        "colab": {
          "base_uri": "https://localhost:8080/"
        },
        "id": "CJxBl52_mmWP",
        "outputId": "347aa691-2a11-4fce-cf15-d8d912ad1902"
      },
      "outputs": [
        {
          "output_type": "execute_result",
          "data": {
            "text/plain": [
              "25"
            ]
          },
          "metadata": {},
          "execution_count": 29
        }
      ],
      "source": [
        "len(input_sequences[0])"
      ]
    },
    {
      "cell_type": "code",
      "execution_count": null,
      "metadata": {
        "colab": {
          "base_uri": "https://localhost:8080/"
        },
        "id": "ojNybiDbREte",
        "outputId": "670e6d6e-4ec0-4470-e6aa-e0d6769f5a33"
      },
      "outputs": [
        {
          "output_type": "execute_result",
          "data": {
            "text/plain": [
              "array([ 0,  0,  0,  0,  0,  0,  0,  0,  0,  0,  0,  0,  0,  0,  0,  0,  0,\n",
              "        0,  0,  0,  0,  0,  0, 15, 56])"
            ]
          },
          "metadata": {},
          "execution_count": 30
        }
      ],
      "source": [
        "input_sequences[0]"
      ]
    },
    {
      "cell_type": "code",
      "execution_count": null,
      "metadata": {
        "colab": {
          "base_uri": "https://localhost:8080/"
        },
        "id": "v7mF4KaIRf8t",
        "outputId": "58dca252-02c1-47fc-827e-4d06f8b1b661"
      },
      "outputs": [
        {
          "output_type": "execute_result",
          "data": {
            "text/plain": [
              "['the']"
            ]
          },
          "metadata": {},
          "execution_count": 31
        }
      ],
      "source": [
        "tokenizer.sequences_to_texts([[3]])"
      ]
    },
    {
      "cell_type": "code",
      "execution_count": null,
      "metadata": {
        "colab": {
          "base_uri": "https://localhost:8080/"
        },
        "id": "tGnkXq_EXiDg",
        "outputId": "8128ef14-356c-4ace-b492-3397bb1be7bc"
      },
      "outputs": [
        {
          "output_type": "execute_result",
          "data": {
            "text/plain": [
              "25"
            ]
          },
          "metadata": {},
          "execution_count": 32
        }
      ],
      "source": [
        "len(input_sequences[0])"
      ]
    },
    {
      "cell_type": "code",
      "execution_count": null,
      "metadata": {
        "colab": {
          "base_uri": "https://localhost:8080/"
        },
        "id": "u2qtywCCPr5H",
        "outputId": "7309de7d-1ca6-45e0-e2d2-6288b02ca1fe"
      },
      "outputs": [
        {
          "output_type": "execute_result",
          "data": {
            "text/plain": [
              "180896"
            ]
          },
          "metadata": {},
          "execution_count": 33
        }
      ],
      "source": [
        "len(input_sequences)"
      ]
    },
    {
      "cell_type": "code",
      "execution_count": null,
      "metadata": {
        "id": "z7-3k5gFgLqD"
      },
      "outputs": [],
      "source": [
        "input_sequences=input_sequences[:111140]"
      ]
    },
    {
      "cell_type": "code",
      "execution_count": null,
      "metadata": {
        "id": "zDvFYheDns55"
      },
      "outputs": [],
      "source": [
        "X = input_sequences[:, :-1]\n",
        "y = input_sequences[:, -1]\n",
        "\n",
        "y= tf.keras.utils.to_categorical(y, num_classes=vocabulary_size+1)"
      ]
    },
    {
      "cell_type": "code",
      "execution_count": null,
      "metadata": {
        "colab": {
          "base_uri": "https://localhost:8080/"
        },
        "id": "83gVwTysXuK2",
        "outputId": "7a0169e8-62f7-4dd9-eb57-83a63c777c0e"
      },
      "outputs": [
        {
          "output_type": "execute_result",
          "data": {
            "text/plain": [
              "array([[0., 0., 0., ..., 0., 0., 0.],\n",
              "       [0., 0., 0., ..., 0., 0., 0.],\n",
              "       [0., 0., 0., ..., 0., 0., 0.],\n",
              "       ...,\n",
              "       [0., 0., 0., ..., 0., 0., 0.],\n",
              "       [0., 0., 0., ..., 0., 0., 0.],\n",
              "       [0., 0., 0., ..., 0., 0., 0.]], dtype=float32)"
            ]
          },
          "metadata": {},
          "execution_count": 36
        }
      ],
      "source": [
        "y"
      ]
    },
    {
      "cell_type": "code",
      "execution_count": null,
      "metadata": {
        "colab": {
          "base_uri": "https://localhost:8080/"
        },
        "id": "RQFcP8gOtJWX",
        "outputId": "a93621f7-2623-418a-dd44-ecf26655611f"
      },
      "outputs": [
        {
          "output_type": "execute_result",
          "data": {
            "text/plain": [
              "56"
            ]
          },
          "metadata": {},
          "execution_count": 37
        }
      ],
      "source": [
        "np.argmax(y[0])"
      ]
    },
    {
      "cell_type": "code",
      "execution_count": null,
      "metadata": {
        "colab": {
          "base_uri": "https://localhost:8080/"
        },
        "id": "6Ze8Eq1qoeIl",
        "outputId": "62de932e-925b-45be-89de-d63efc8d0e8d"
      },
      "outputs": [
        {
          "output_type": "execute_result",
          "data": {
            "text/plain": [
              "24"
            ]
          },
          "metadata": {},
          "execution_count": 38
        }
      ],
      "source": [
        "seq_len = X.shape[1]\n",
        "seq_len"
      ]
    },
    {
      "cell_type": "code",
      "execution_count": null,
      "metadata": {
        "id": "IfsNLmOrof6U"
      },
      "outputs": [],
      "source": [
        "from keras.models import Sequential\n",
        "from keras.layers import Dense, LSTM, Embedding, Bidirectional\n",
        "\n",
        "def create_model(vocabulary_size, seq_len):\n",
        "  model = Sequential()\n",
        "  model.add(Embedding(vocabulary_size, seq_len, input_length=seq_len))\n",
        "  model.add(Bidirectional(LSTM(25, return_sequences=True)))\n",
        "  model.add(Bidirectional(LSTM(25)))\n",
        "  model.add(Dense(100, activation='relu'))\n",
        "  model.add(Dense(vocabulary_size, activation='softmax'))\n",
        "\n",
        "  model.compile(loss='categorical_crossentropy', optimizer='adam', metrics=['accuracy'])\n",
        "\n",
        "  model.summary()\n",
        "\n",
        "  return model"
      ]
    },
    {
      "cell_type": "code",
      "execution_count": null,
      "metadata": {
        "colab": {
          "base_uri": "https://localhost:8080/"
        },
        "id": "U2dCLknJNTWi",
        "outputId": "dbbfeeb1-3861-4e9f-ddf3-1679e9ca584a"
      },
      "outputs": [
        {
          "output_type": "stream",
          "name": "stdout",
          "text": [
            "Model: \"sequential\"\n",
            "_________________________________________________________________\n",
            " Layer (type)                Output Shape              Param #   \n",
            "=================================================================\n",
            " embedding (Embedding)       (None, 24, 24)            391320    \n",
            "                                                                 \n",
            " bidirectional (Bidirectiona  (None, 24, 50)           10000     \n",
            " l)                                                              \n",
            "                                                                 \n",
            " bidirectional_1 (Bidirectio  (None, 50)               15200     \n",
            " nal)                                                            \n",
            "                                                                 \n",
            " dense (Dense)               (None, 100)               5100      \n",
            "                                                                 \n",
            " dense_1 (Dense)             (None, 16305)             1646805   \n",
            "                                                                 \n",
            "=================================================================\n",
            "Total params: 2,068,425\n",
            "Trainable params: 2,068,425\n",
            "Non-trainable params: 0\n",
            "_________________________________________________________________\n"
          ]
        }
      ],
      "source": [
        "model = create_model(vocabulary_size+1, seq_len)"
      ]
    },
    {
      "cell_type": "code",
      "execution_count": null,
      "metadata": {
        "colab": {
          "base_uri": "https://localhost:8080/"
        },
        "id": "FchEpIMjNyHj",
        "outputId": "17a71018-bdf8-42d9-af57-1f0e73734c76"
      },
      "outputs": [
        {
          "output_type": "stream",
          "name": "stdout",
          "text": [
            "Epoch 1/200\n",
            "5557/5557 [==============================] - 107s 17ms/step - loss: 7.3405 - accuracy: 0.0352\n",
            "Epoch 2/200\n",
            "5557/5557 [==============================] - 69s 12ms/step - loss: 6.9155 - accuracy: 0.0593\n",
            "Epoch 3/200\n",
            "5557/5557 [==============================] - 68s 12ms/step - loss: 6.6242 - accuracy: 0.0784\n",
            "Epoch 4/200\n",
            "5557/5557 [==============================] - 68s 12ms/step - loss: 6.4013 - accuracy: 0.0881\n",
            "Epoch 5/200\n",
            "5557/5557 [==============================] - 67s 12ms/step - loss: 6.2238 - accuracy: 0.0942\n",
            "Epoch 6/200\n",
            "5557/5557 [==============================] - 67s 12ms/step - loss: 6.0705 - accuracy: 0.0991\n",
            "Epoch 7/200\n",
            "5557/5557 [==============================] - 68s 12ms/step - loss: 5.9397 - accuracy: 0.1032\n",
            "Epoch 8/200\n",
            "5557/5557 [==============================] - 66s 12ms/step - loss: 5.8219 - accuracy: 0.1069\n",
            "Epoch 9/200\n",
            "5557/5557 [==============================] - 68s 12ms/step - loss: 5.7170 - accuracy: 0.1102\n",
            "Epoch 10/200\n",
            "5557/5557 [==============================] - 67s 12ms/step - loss: 5.6209 - accuracy: 0.1153\n",
            "Epoch 11/200\n",
            "5557/5557 [==============================] - 68s 12ms/step - loss: 5.5317 - accuracy: 0.1204\n",
            "Epoch 12/200\n",
            "5557/5557 [==============================] - 66s 12ms/step - loss: 5.4464 - accuracy: 0.1239\n",
            "Epoch 13/200\n",
            "5557/5557 [==============================] - 67s 12ms/step - loss: 5.3671 - accuracy: 0.1276\n",
            "Epoch 14/200\n",
            "5557/5557 [==============================] - 67s 12ms/step - loss: 5.2892 - accuracy: 0.1309\n",
            "Epoch 15/200\n",
            "5557/5557 [==============================] - 67s 12ms/step - loss: 5.2156 - accuracy: 0.1339\n",
            "Epoch 16/200\n",
            "5557/5557 [==============================] - 66s 12ms/step - loss: 5.1460 - accuracy: 0.1379\n",
            "Epoch 17/200\n",
            "5557/5557 [==============================] - 67s 12ms/step - loss: 5.0781 - accuracy: 0.1403\n",
            "Epoch 18/200\n",
            "5557/5557 [==============================] - 66s 12ms/step - loss: 5.0139 - accuracy: 0.1429\n",
            "Epoch 19/200\n",
            "5557/5557 [==============================] - 67s 12ms/step - loss: 4.9484 - accuracy: 0.1457\n",
            "Epoch 20/200\n",
            "5557/5557 [==============================] - 67s 12ms/step - loss: 4.8855 - accuracy: 0.1493\n",
            "Epoch 21/200\n",
            "5557/5557 [==============================] - 66s 12ms/step - loss: 4.8243 - accuracy: 0.1526\n",
            "Epoch 22/200\n",
            "5557/5557 [==============================] - 66s 12ms/step - loss: 4.7648 - accuracy: 0.1550\n",
            "Epoch 23/200\n",
            "5557/5557 [==============================] - 68s 12ms/step - loss: 4.7070 - accuracy: 0.1586\n",
            "Epoch 24/200\n",
            "5557/5557 [==============================] - 67s 12ms/step - loss: 4.6497 - accuracy: 0.1621\n",
            "Epoch 25/200\n",
            "5557/5557 [==============================] - 66s 12ms/step - loss: 4.5896 - accuracy: 0.1655\n",
            "Epoch 26/200\n",
            "5557/5557 [==============================] - 67s 12ms/step - loss: 4.5277 - accuracy: 0.1705\n",
            "Epoch 27/200\n",
            "5557/5557 [==============================] - 66s 12ms/step - loss: 4.4705 - accuracy: 0.1750\n",
            "Epoch 28/200\n",
            "5557/5557 [==============================] - 67s 12ms/step - loss: 4.4091 - accuracy: 0.1795\n",
            "Epoch 29/200\n",
            "5557/5557 [==============================] - 67s 12ms/step - loss: 4.3531 - accuracy: 0.1842\n",
            "Epoch 30/200\n",
            "5557/5557 [==============================] - 67s 12ms/step - loss: 4.2987 - accuracy: 0.1894\n",
            "Epoch 31/200\n",
            "5557/5557 [==============================] - 65s 12ms/step - loss: 4.2440 - accuracy: 0.1946\n",
            "Epoch 32/200\n",
            "5557/5557 [==============================] - 68s 12ms/step - loss: 4.1936 - accuracy: 0.1995\n",
            "Epoch 33/200\n",
            "5557/5557 [==============================] - 66s 12ms/step - loss: 4.1428 - accuracy: 0.2062\n",
            "Epoch 34/200\n",
            "5557/5557 [==============================] - 67s 12ms/step - loss: 4.0967 - accuracy: 0.2108\n",
            "Epoch 35/200\n",
            "5557/5557 [==============================] - 66s 12ms/step - loss: 4.0521 - accuracy: 0.2139\n",
            "Epoch 36/200\n",
            "5557/5557 [==============================] - 66s 12ms/step - loss: 4.0067 - accuracy: 0.2217\n",
            "Epoch 37/200\n",
            "5557/5557 [==============================] - 66s 12ms/step - loss: 3.9675 - accuracy: 0.2246\n",
            "Epoch 38/200\n",
            "5557/5557 [==============================] - 68s 12ms/step - loss: 3.9224 - accuracy: 0.2301\n",
            "Epoch 39/200\n",
            "5557/5557 [==============================] - 66s 12ms/step - loss: 3.8874 - accuracy: 0.2341\n",
            "Epoch 40/200\n",
            "5557/5557 [==============================] - 66s 12ms/step - loss: 3.8511 - accuracy: 0.2388\n",
            "Epoch 41/200\n",
            "5557/5557 [==============================] - 66s 12ms/step - loss: 3.8116 - accuracy: 0.2433\n",
            "Epoch 42/200\n",
            "5557/5557 [==============================] - 67s 12ms/step - loss: 3.7802 - accuracy: 0.2473\n",
            "Epoch 43/200\n",
            "5557/5557 [==============================] - 66s 12ms/step - loss: 3.7481 - accuracy: 0.2515\n",
            "Epoch 44/200\n",
            "5557/5557 [==============================] - 67s 12ms/step - loss: 3.7135 - accuracy: 0.2556\n",
            "Epoch 45/200\n",
            "5557/5557 [==============================] - 66s 12ms/step - loss: 3.6798 - accuracy: 0.2604\n",
            "Epoch 46/200\n",
            "5557/5557 [==============================] - 66s 12ms/step - loss: 3.6512 - accuracy: 0.2644\n",
            "Epoch 47/200\n",
            "5557/5557 [==============================] - 67s 12ms/step - loss: 3.6276 - accuracy: 0.2682\n",
            "Epoch 48/200\n",
            "5557/5557 [==============================] - 66s 12ms/step - loss: 3.5946 - accuracy: 0.2717\n",
            "Epoch 49/200\n",
            "5557/5557 [==============================] - 65s 12ms/step - loss: 3.5678 - accuracy: 0.2753\n",
            "Epoch 50/200\n",
            "5557/5557 [==============================] - 67s 12ms/step - loss: 3.5419 - accuracy: 0.2797\n",
            "Epoch 51/200\n",
            "5557/5557 [==============================] - 66s 12ms/step - loss: 3.5131 - accuracy: 0.2824\n",
            "Epoch 52/200\n",
            "5557/5557 [==============================] - 66s 12ms/step - loss: 3.4909 - accuracy: 0.2877\n",
            "Epoch 53/200\n",
            "5557/5557 [==============================] - 66s 12ms/step - loss: 3.4656 - accuracy: 0.2897\n",
            "Epoch 54/200\n",
            "5557/5557 [==============================] - 66s 12ms/step - loss: 3.4408 - accuracy: 0.2938\n",
            "Epoch 55/200\n",
            "5557/5557 [==============================] - 66s 12ms/step - loss: 3.4190 - accuracy: 0.2969\n",
            "Epoch 56/200\n",
            "5557/5557 [==============================] - 67s 12ms/step - loss: 3.3933 - accuracy: 0.3001\n",
            "Epoch 57/200\n",
            "5557/5557 [==============================] - 67s 12ms/step - loss: 3.3723 - accuracy: 0.3030\n",
            "Epoch 58/200\n",
            "5557/5557 [==============================] - 66s 12ms/step - loss: 3.3505 - accuracy: 0.3070\n",
            "Epoch 59/200\n",
            "5557/5557 [==============================] - 66s 12ms/step - loss: 3.3277 - accuracy: 0.3099\n",
            "Epoch 60/200\n",
            "5557/5557 [==============================] - 68s 12ms/step - loss: 3.3088 - accuracy: 0.3126\n",
            "Epoch 61/200\n",
            "5557/5557 [==============================] - 66s 12ms/step - loss: 3.2878 - accuracy: 0.3166\n",
            "Epoch 62/200\n",
            "5557/5557 [==============================] - 68s 12ms/step - loss: 3.2711 - accuracy: 0.3184\n",
            "Epoch 63/200\n",
            "5557/5557 [==============================] - 66s 12ms/step - loss: 3.2512 - accuracy: 0.3236\n",
            "Epoch 64/200\n",
            "5557/5557 [==============================] - 67s 12ms/step - loss: 3.2277 - accuracy: 0.3258\n",
            "Epoch 65/200\n",
            "5557/5557 [==============================] - 67s 12ms/step - loss: 3.2132 - accuracy: 0.3280\n",
            "Epoch 66/200\n",
            "5557/5557 [==============================] - 67s 12ms/step - loss: 3.1951 - accuracy: 0.3303\n",
            "Epoch 67/200\n",
            "5557/5557 [==============================] - 65s 12ms/step - loss: 3.1746 - accuracy: 0.3339\n",
            "Epoch 68/200\n",
            "5557/5557 [==============================] - 67s 12ms/step - loss: 3.1599 - accuracy: 0.3369\n",
            "Epoch 69/200\n",
            "5557/5557 [==============================] - 66s 12ms/step - loss: 3.1447 - accuracy: 0.3384\n",
            "Epoch 70/200\n",
            "5557/5557 [==============================] - 66s 12ms/step - loss: 3.1294 - accuracy: 0.3413\n",
            "Epoch 71/200\n",
            "5557/5557 [==============================] - 66s 12ms/step - loss: 3.1152 - accuracy: 0.3436\n",
            "Epoch 72/200\n",
            "5557/5557 [==============================] - 66s 12ms/step - loss: 3.0952 - accuracy: 0.3474\n",
            "Epoch 73/200\n",
            "5557/5557 [==============================] - 66s 12ms/step - loss: 3.0847 - accuracy: 0.3480\n",
            "Epoch 74/200\n",
            "5557/5557 [==============================] - 67s 12ms/step - loss: 3.0734 - accuracy: 0.3498\n",
            "Epoch 75/200\n",
            "5557/5557 [==============================] - 66s 12ms/step - loss: 3.0567 - accuracy: 0.3538\n",
            "Epoch 76/200\n",
            "5557/5557 [==============================] - 67s 12ms/step - loss: 3.0473 - accuracy: 0.3557\n",
            "Epoch 77/200\n",
            "5557/5557 [==============================] - 66s 12ms/step - loss: 3.0340 - accuracy: 0.3563\n",
            "Epoch 78/200\n",
            "5557/5557 [==============================] - 67s 12ms/step - loss: 3.0221 - accuracy: 0.3592\n",
            "Epoch 79/200\n",
            "5557/5557 [==============================] - 66s 12ms/step - loss: 3.0077 - accuracy: 0.3622\n",
            "Epoch 80/200\n",
            "5557/5557 [==============================] - 67s 12ms/step - loss: 2.9960 - accuracy: 0.3638\n",
            "Epoch 81/200\n",
            "5557/5557 [==============================] - 66s 12ms/step - loss: 2.9892 - accuracy: 0.3649\n",
            "Epoch 82/200\n",
            "5557/5557 [==============================] - 66s 12ms/step - loss: 2.9748 - accuracy: 0.3667\n",
            "Epoch 83/200\n",
            "5557/5557 [==============================] - 67s 12ms/step - loss: 2.9622 - accuracy: 0.3692\n",
            "Epoch 84/200\n",
            "5557/5557 [==============================] - 67s 12ms/step - loss: 2.9539 - accuracy: 0.3707\n",
            "Epoch 85/200\n",
            "5557/5557 [==============================] - 67s 12ms/step - loss: 2.9476 - accuracy: 0.3724\n",
            "Epoch 86/200\n",
            "5557/5557 [==============================] - 66s 12ms/step - loss: 2.9354 - accuracy: 0.3735\n",
            "Epoch 87/200\n",
            "5557/5557 [==============================] - 67s 12ms/step - loss: 2.9231 - accuracy: 0.3747\n",
            "Epoch 88/200\n",
            "5557/5557 [==============================] - 66s 12ms/step - loss: 2.9161 - accuracy: 0.3765\n",
            "Epoch 89/200\n",
            "4901/5557 [=========================>....] - ETA: 7s - loss: 2.8913 - accuracy: 0.3813"
          ]
        }
      ],
      "source": [
        "model.fit(X,y,batch_size=20, epochs=200, verbose=1)"
      ]
    },
    {
      "cell_type": "code",
      "execution_count": null,
      "metadata": {
        "id": "gCJ5yjPh4v0n"
      },
      "outputs": [],
      "source": [
        "from keras.utils import pad_sequences"
      ]
    },
    {
      "cell_type": "code",
      "execution_count": null,
      "metadata": {
        "id": "cYEM43JP7V_l"
      },
      "outputs": [],
      "source": [
        "import random\n",
        "random.seed(266)\n",
        "random_pick = random.randint(0, len(df[\"Text\"]))"
      ]
    },
    {
      "cell_type": "code",
      "execution_count": null,
      "metadata": {
        "id": "LjD47x7v4VMf"
      },
      "outputs": [],
      "source": [
        "def generate_text(model, tokenizer, seq_len, seed_text, num_gen_words):\n",
        "  output_text = []\n",
        "\n",
        "  input_text = seed_text\n",
        "\n",
        "  for i in range(num_gen_words):\n",
        "    encoded_text = tokenizer.texts_to_sequences([input_text])[0]\n",
        "\n",
        "    pad_encoded = pad_sequences([encoded_text], maxlen=seq_len,truncating='pre')\n",
        "\n",
        "    pred_word_ind = model.predict(pad_encoded, verbose=0)[0]\n",
        "    print(pred_word_ind)\n",
        "    index = np.argmax(pred_word_ind)\n",
        "    pred_word = tokenizer.index_word[index]\n",
        "\n",
        "    print(pred_word)\n",
        "    input_text += ' '+pred_word\n",
        "\n",
        "    output_text.append(pred_word)\n",
        "\n",
        "  return ' '.join(output_text)"
      ]
    },
    {
      "cell_type": "code",
      "execution_count": null,
      "metadata": {
        "id": "kDlulcUy7eWo"
      },
      "outputs": [],
      "source": [
        "random_seed_text = df[\"Text\"][random_pick]"
      ]
    },
    {
      "cell_type": "code",
      "execution_count": null,
      "metadata": {
        "id": "GgA3yKrSQ941"
      },
      "outputs": [],
      "source": [
        "input_sequences"
      ]
    },
    {
      "cell_type": "code",
      "execution_count": null,
      "metadata": {
        "id": "EnMEtWDf7odt"
      },
      "outputs": [],
      "source": [
        "random_seed_text = \"Welcome to the\""
      ]
    },
    {
      "cell_type": "code",
      "execution_count": null,
      "metadata": {
        "id": "i-MCxGDrGHuD"
      },
      "outputs": [],
      "source": [
        "generated_text = generate_text(model, tokenizer, seq_len, seed_text=random_seed_text, num_gen_words=10)"
      ]
    },
    {
      "cell_type": "code",
      "execution_count": null,
      "metadata": {
        "id": "RSLuR_GsJLGw"
      },
      "outputs": [],
      "source": [
        "f\"{random_seed_text} {generated_text} \""
      ]
    },
    {
      "cell_type": "code",
      "execution_count": null,
      "metadata": {
        "id": "yAksv6svd7WO"
      },
      "outputs": [],
      "source": [
        "!mkdir -p saved_model"
      ]
    },
    {
      "cell_type": "code",
      "execution_count": null,
      "metadata": {
        "id": "mzdNJ98LkDTP"
      },
      "outputs": [],
      "source": [
        "model.save('saved_model/my_model')"
      ]
    }
  ],
  "metadata": {
    "accelerator": "GPU",
    "colab": {
      "provenance": [],
      "gpuType": "T4"
    },
    "kernelspec": {
      "display_name": "Python 3",
      "name": "python3"
    },
    "language_info": {
      "name": "python"
    }
  },
  "nbformat": 4,
  "nbformat_minor": 0
}